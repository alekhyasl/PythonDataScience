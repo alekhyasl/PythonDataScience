{
 "cells": [
  {
   "cell_type": "code",
   "execution_count": 1,
   "metadata": {},
   "outputs": [
    {
     "name": "stdout",
     "output_type": "stream",
     "text": [
      "<class '__main__.Car'>\n"
     ]
    }
   ],
   "source": [
    "# class is a blue print for creating objects,attributes and methods\n",
    "class Car:\n",
    "    pass\n",
    "audi = Car()\n",
    "bmw = Car()\n",
    "print(type(audi))"
   ]
  },
  {
   "cell_type": "code",
   "execution_count": null,
   "metadata": {},
   "outputs": [
    {
     "name": "stdout",
     "output_type": "stream",
     "text": [
      "<__main__.Car object at 0x000002263032EAE0>\n",
      "<__main__.Car object at 0x000002262D837380>\n"
     ]
    }
   ],
   "source": [
    "print(audi) # indicates that this is car object at specific memory location\n",
    "print(bmw)"
   ]
  },
  {
   "cell_type": "code",
   "execution_count": null,
   "metadata": {},
   "outputs": [
    {
     "name": "stdout",
     "output_type": "stream",
     "text": [
      "4\n",
      "2\n"
     ]
    }
   ],
   "source": [
    "# defining attributes this way is not suggestable\n",
    "audi.windows = 4\n",
    "print(audi.windows)\n",
    "bmw.doors = 2\n",
    "print(bmw.doors)"
   ]
  },
  {
   "cell_type": "code",
   "execution_count": null,
   "metadata": {},
   "outputs": [
    {
     "data": {
      "text/plain": [
       "['__class__',\n",
       " '__delattr__',\n",
       " '__dict__',\n",
       " '__dir__',\n",
       " '__doc__',\n",
       " '__eq__',\n",
       " '__format__',\n",
       " '__ge__',\n",
       " '__getattribute__',\n",
       " '__getstate__',\n",
       " '__gt__',\n",
       " '__hash__',\n",
       " '__init__',\n",
       " '__init_subclass__',\n",
       " '__le__',\n",
       " '__lt__',\n",
       " '__module__',\n",
       " '__ne__',\n",
       " '__new__',\n",
       " '__reduce__',\n",
       " '__reduce_ex__',\n",
       " '__repr__',\n",
       " '__setattr__',\n",
       " '__sizeof__',\n",
       " '__str__',\n",
       " '__subclasshook__',\n",
       " '__weakref__',\n",
       " 'windows']"
      ]
     },
     "execution_count": 5,
     "metadata": {},
     "output_type": "execute_result"
    }
   ],
   "source": [
    "dir(audi) # shows instances/methods of object\n",
    "# __init__ is a constructor\n",
    "# here we have created attribute windows for audi, this will be displayed here\n"
   ]
  },
  {
   "cell_type": "code",
   "execution_count": 1,
   "metadata": {},
   "outputs": [
    {
     "name": "stdout",
     "output_type": "stream",
     "text": [
      "<__main__.Dog object at 0x000001B4DDD6BE30>\n",
      "Poodle\n",
      "3\n",
      "<__main__.Dog object at 0x000001B4DF11EE10>\n",
      "doodle\n",
      "7\n"
     ]
    }
   ],
   "source": [
    "# instance variable and methods\n",
    "class Dog:\n",
    "    def __init__(self,breed,age):# constructor \n",
    "        # in place of self any word can be used\n",
    "        self.breed = breed # self.breed is an instance variable\n",
    "        self.age = age\n",
    "    # here constructor has 2 parameters , so while creating an object these two variables should be defined\n",
    "\n",
    "dog1 = Dog(\"Poodle\",3) # here the constructor is called first\n",
    "print(dog1)\n",
    "print(dog1.breed)\n",
    "print(dog1.age)\n",
    "dog2 = Dog(\"doodle\",7)\n",
    "print(dog2)\n",
    "print(dog2.breed)\n",
    "print(dog2.age)\n",
    "\n",
    "\n",
    "    \n",
    "\n",
    "\n"
   ]
  },
  {
   "cell_type": "code",
   "execution_count": 4,
   "metadata": {},
   "outputs": [
    {
     "name": "stdout",
     "output_type": "stream",
     "text": [
      "alekhya stays in austin\n",
      "sri stays in austin\n"
     ]
    }
   ],
   "source": [
    "# define a class with instance method\n",
    "class Employee:\n",
    "    def __init__(self,empID,name):\n",
    "        self.empID = empID\n",
    "        self.name  = name\n",
    "    def location(self): # we use self keyword so that we can use instance variables inside the method as well\n",
    "        print(f\"{self.name} stays in austin\")\n",
    "\n",
    "emp1 = Employee(100,\"alekhya\")\n",
    "emp1.location()\n",
    "emp2 = Employee(101,\"sri\")\n",
    "emp2.location()\n"
   ]
  },
  {
   "cell_type": "code",
   "execution_count": null,
   "metadata": {},
   "outputs": [],
   "source": [
    "# Modeling a bank account\n",
    "\n",
    "\n",
    "class BankAccount: # it is good practice using capital letters for defining a class name\n",
    "    def __init__(self,owner,balance= 0): # balance is zero initially while creating account\n",
    "        self.owner = owner\n",
    "        self.balance = balance\n",
    "    \n",
    "    def deposit(self,amount): # we use self keyword to access instance variables within the class\n",
    "        self.balance = self.balance+amount\n",
    "        print(f\"{amount} is deposited and final balance is {self.balance}\")\n",
    "\n",
    "    def withdraw(self,amount):\n",
    "        if amount > self.balance:\n",
    "            print(\"insufficient funds\")\n",
    "        else:\n",
    "            print(\"amount withdraw successful\")\n",
    "            self.balance = self.balance - amount\n",
    "            print(f\"new balance is {self.balance}\")\n",
    "    \n",
    "    def getBalance(self):\n",
    "        return self.balance\n",
    "\n",
    "account1 = BankAccount(\"Alekhya\",1000)\n"
   ]
  },
  {
   "cell_type": "code",
   "execution_count": 8,
   "metadata": {},
   "outputs": [
    {
     "name": "stdout",
     "output_type": "stream",
     "text": [
      "1000\n"
     ]
    }
   ],
   "source": [
    "print(account1.balance)\n"
   ]
  },
  {
   "cell_type": "code",
   "execution_count": 13,
   "metadata": {},
   "outputs": [
    {
     "name": "stdout",
     "output_type": "stream",
     "text": [
      "2000 is deposited and final balance is 4700\n"
     ]
    }
   ],
   "source": [
    "account1.deposit(2000)\n"
   ]
  },
  {
   "cell_type": "code",
   "execution_count": 14,
   "metadata": {},
   "outputs": [
    {
     "name": "stdout",
     "output_type": "stream",
     "text": [
      "amount withdraw successful\n",
      "new balance is 4400\n"
     ]
    }
   ],
   "source": [
    "account1.withdraw(300)\n"
   ]
  },
  {
   "cell_type": "code",
   "execution_count": 15,
   "metadata": {},
   "outputs": [
    {
     "name": "stdout",
     "output_type": "stream",
     "text": [
      "insufficient funds\n"
     ]
    }
   ],
   "source": [
    "account1.withdraw(6000)\n"
   ]
  },
  {
   "cell_type": "code",
   "execution_count": null,
   "metadata": {},
   "outputs": [
    {
     "data": {
      "text/plain": [
       "4400"
      ]
     },
     "execution_count": 16,
     "metadata": {},
     "output_type": "execute_result"
    },
    {
     "ename": "",
     "evalue": "",
     "output_type": "error",
     "traceback": [
      "\u001b[1;31mThe Kernel crashed while executing code in the current cell or a previous cell. \n",
      "\u001b[1;31mPlease review the code in the cell(s) to identify a possible cause of the failure. \n",
      "\u001b[1;31mClick <a href='https://aka.ms/vscodeJupyterKernelCrash'>here</a> for more info. \n",
      "\u001b[1;31mView Jupyter <a href='command:jupyter.viewOutput'>log</a> for further details."
     ]
    }
   ],
   "source": [
    "account1.getBalance()"
   ]
  },
  {
   "cell_type": "code",
   "execution_count": null,
   "metadata": {},
   "outputs": [],
   "source": []
  }
 ],
 "metadata": {
  "kernelspec": {
   "display_name": "Python 3",
   "language": "python",
   "name": "python3"
  },
  "language_info": {
   "codemirror_mode": {
    "name": "ipython",
    "version": 3
   },
   "file_extension": ".py",
   "mimetype": "text/x-python",
   "name": "python",
   "nbconvert_exporter": "python",
   "pygments_lexer": "ipython3",
   "version": "3.12.0"
  }
 },
 "nbformat": 4,
 "nbformat_minor": 2
}
