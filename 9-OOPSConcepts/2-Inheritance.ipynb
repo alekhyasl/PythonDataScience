{
 "cells": [
  {
   "cell_type": "code",
   "execution_count": 2,
   "id": "de5023b3",
   "metadata": {},
   "outputs": [
    {
     "name": "stdout",
     "output_type": "stream",
     "text": [
      "person will drive the petrol car\n",
      "this is a 7 seater\n"
     ]
    }
   ],
   "source": [
    "# Inheritence -> allows to inherit objects and methods from another classes\n",
    "\n",
    "class Car:\n",
    "    def __init__(self,windows,seats,engineType):\n",
    "        self.windows = windows\n",
    "        self.seats = seats\n",
    "        self.engineType = engineType\n",
    "    \n",
    "    def drive(self):\n",
    "        print(f\"person will drive the {self.engineType} car\")\n",
    "    \n",
    "    def numberOfSeats(self):\n",
    "        print(f\"this is a {self.seats} seater\")\n",
    "\n",
    "car1 = Car(4,7,\"petrol\")\n",
    "car1.drive()\n",
    "car1.numberOfSeats()\n"
   ]
  },
  {
   "cell_type": "code",
   "execution_count": 3,
   "id": "f0e19d45",
   "metadata": {},
   "outputs": [
    {
     "name": "stdout",
     "output_type": "stream",
     "text": [
      "Tesla supports self driving True\n",
      "this is a 5 seater\n",
      "person will drive the electric car\n"
     ]
    }
   ],
   "source": [
    "class Tesla(Car): # here Tesla class inherits Car class\n",
    "    def __init__(self, windows, seats, engineType,is_selfDriving):\n",
    "        super().__init__(windows, seats, engineType) # these are the attributes from Car class\n",
    "        self.is_selfDriving = is_selfDriving\n",
    "    \n",
    "    def self_driving(self):\n",
    "        print(f\"Tesla supports self driving {self.is_selfDriving}\")\n",
    "\n",
    "modelY = Tesla(4,5,\"electric\",True)\n",
    "modelY.self_driving()\n",
    "modelY.numberOfSeats()\n",
    "modelY.drive()\n"
   ]
  },
  {
   "cell_type": "code",
   "execution_count": null,
   "id": "c09a90cf",
   "metadata": {},
   "outputs": [
    {
     "ename": "TypeError",
     "evalue": "Animal.__init__() missing 1 required positional argument: 'name'",
     "output_type": "error",
     "traceback": [
      "\u001b[31m---------------------------------------------------------------------------\u001b[39m",
      "\u001b[31mTypeError\u001b[39m                                 Traceback (most recent call last)",
      "\u001b[36mCell\u001b[39m\u001b[36m \u001b[39m\u001b[32mIn[1]\u001b[39m\u001b[32m, line 23\u001b[39m\n\u001b[32m     20\u001b[39m         \u001b[38;5;28;01mreturn\u001b[39;00m \u001b[33mf\u001b[39m\u001b[33m\"\u001b[39m\u001b[38;5;132;01m{\u001b[39;00m\u001b[38;5;28mself\u001b[39m.name\u001b[38;5;132;01m}\u001b[39;00m\u001b[33m say woof\u001b[39m\u001b[33m\"\u001b[39m\n\u001b[32m     22\u001b[39m \u001b[38;5;66;03m# create an object\u001b[39;00m\n\u001b[32m---> \u001b[39m\u001b[32m23\u001b[39m dog = \u001b[43mDog\u001b[49m\u001b[43m(\u001b[49m\u001b[33;43m\"\u001b[39;49m\u001b[33;43mbuddy\u001b[39;49m\u001b[33;43m\"\u001b[39;49m\u001b[43m,\u001b[49m\u001b[33;43m\"\u001b[39;49m\u001b[33;43malekhya\u001b[39;49m\u001b[33;43m\"\u001b[39;49m\u001b[43m)\u001b[49m\n\u001b[32m     24\u001b[39m dog.speak()\n",
      "\u001b[36mCell\u001b[39m\u001b[36m \u001b[39m\u001b[32mIn[1]\u001b[39m\u001b[32m, line 16\u001b[39m, in \u001b[36mDog.__init__\u001b[39m\u001b[34m(self, name, owner)\u001b[39m\n\u001b[32m     15\u001b[39m \u001b[38;5;28;01mdef\u001b[39;00m\u001b[38;5;250m \u001b[39m\u001b[34m__init__\u001b[39m(\u001b[38;5;28mself\u001b[39m, name,owner):\n\u001b[32m---> \u001b[39m\u001b[32m16\u001b[39m     \u001b[43mAnimal\u001b[49m\u001b[43m(\u001b[49m\u001b[43m)\u001b[49m.\u001b[34m__init__\u001b[39m(\u001b[38;5;28mself\u001b[39m,name)\n\u001b[32m     17\u001b[39m     Pet.\u001b[34m__init__\u001b[39m(\u001b[38;5;28mself\u001b[39m,owner)\n",
      "\u001b[31mTypeError\u001b[39m: Animal.__init__() missing 1 required positional argument: 'name'"
     ]
    }
   ],
   "source": [
    "# Multiple inheritance\n",
    "# when a class inherits from more than 1 base class\n",
    "class Animal:\n",
    "    def __init__(self,name):\n",
    "        self.name = name\n",
    "    \n",
    "    def speak(self):\n",
    "        print(\"sub class must implement this method\")\n",
    "\n",
    "class Pet:\n",
    "    def __init__(self,owner):\n",
    "        self.owner = owner\n",
    "    \n",
    "class Dog(Animal,Pet):\n",
    "    def __init__(self, name,owner):\n",
    "        Animal().__init__(self,name)\n",
    "        Pet.__init__(self,owner)\n",
    "    \n",
    "    def speak(self):\n",
    "        return f\"{self.name} say woof\"\n",
    "    \n",
    "# create an object\n",
    "dog = Dog(\"buddy\",\"alekhya\")\n",
    "dog.speak()\n",
    "\n",
    "        "
   ]
  },
  {
   "cell_type": "code",
   "execution_count": null,
   "id": "65f83e77",
   "metadata": {},
   "outputs": [],
   "source": []
  }
 ],
 "metadata": {
  "kernelspec": {
   "display_name": "Python 3",
   "language": "python",
   "name": "python3"
  },
  "language_info": {
   "codemirror_mode": {
    "name": "ipython",
    "version": 3
   },
   "file_extension": ".py",
   "mimetype": "text/x-python",
   "name": "python",
   "nbconvert_exporter": "python",
   "pygments_lexer": "ipython3",
   "version": "3.12.0"
  }
 },
 "nbformat": 4,
 "nbformat_minor": 5
}
