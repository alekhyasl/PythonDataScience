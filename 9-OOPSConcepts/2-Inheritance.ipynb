{
 "cells": [
  {
   "cell_type": "code",
   "execution_count": 2,
   "id": "de5023b3",
   "metadata": {},
   "outputs": [
    {
     "name": "stdout",
     "output_type": "stream",
     "text": [
      "person will drive the petrol car\n",
      "this is a 7 seater\n"
     ]
    }
   ],
   "source": [
    "# Inheritence -> allows to inherit objects and methods from another classes\n",
    "\n",
    "class Car:\n",
    "    def __init__(self,windows,seats,engineType):\n",
    "        self.windows = windows\n",
    "        self.seats = seats\n",
    "        self.engineType = engineType\n",
    "    \n",
    "    def drive(self):\n",
    "        print(f\"person will drive the {self.engineType} car\")\n",
    "    \n",
    "    def numberOfSeats(self):\n",
    "        print(f\"this is a {self.seats} seater\")\n",
    "\n",
    "car1 = Car(4,7,\"petrol\")\n",
    "car1.drive()\n",
    "car1.numberOfSeats()\n"
   ]
  },
  {
   "cell_type": "code",
   "execution_count": 3,
   "id": "f0e19d45",
   "metadata": {},
   "outputs": [
    {
     "name": "stdout",
     "output_type": "stream",
     "text": [
      "Tesla supports self driving True\n",
      "this is a 5 seater\n",
      "person will drive the electric car\n"
     ]
    }
   ],
   "source": [
    "class Tesla(Car): # here Tesla class inherits Car class\n",
    "    def __init__(self, windows, seats, engineType,is_selfDriving):\n",
    "        super().__init__(windows, seats, engineType) # these are the attributes from Car class\n",
    "        self.is_selfDriving = is_selfDriving\n",
    "    \n",
    "    def self_driving(self):\n",
    "        print(f\"Tesla supports self driving {self.is_selfDriving}\")\n",
    "\n",
    "modelY = Tesla(4,5,\"electric\",True)\n",
    "modelY.self_driving()\n",
    "modelY.numberOfSeats()\n",
    "modelY.drive()\n"
   ]
  },
  {
   "cell_type": "code",
   "execution_count": null,
   "id": "c09a90cf",
   "metadata": {},
   "outputs": [],
   "source": [
    "# Multiple inheritance\n",
    "# when a class inherits from more than 1 base class\n",
    "class Animal:\n",
    "    def __init__(self,name):\n",
    "        self.name = name\n",
    "    \n",
    "    def speak(self):\n",
    "        "
   ]
  }
 ],
 "metadata": {
  "kernelspec": {
   "display_name": "Python 3",
   "language": "python",
   "name": "python3"
  },
  "language_info": {
   "codemirror_mode": {
    "name": "ipython",
    "version": 3
   },
   "file_extension": ".py",
   "mimetype": "text/x-python",
   "name": "python",
   "nbconvert_exporter": "python",
   "pygments_lexer": "ipython3",
   "version": "3.12.0"
  }
 },
 "nbformat": 4,
 "nbformat_minor": 5
}
