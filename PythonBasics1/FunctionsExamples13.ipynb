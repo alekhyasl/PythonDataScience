{
 "cells": [
  {
   "cell_type": "code",
   "execution_count": null,
   "metadata": {},
   "outputs": [
    {
     "data": {
      "text/plain": [
       "34.988"
      ]
     },
     "execution_count": 4,
     "metadata": {},
     "output_type": "execute_result"
    }
   ],
   "source": [
    "# temperature converter\n",
    "def convert_temp(temp,unit):\n",
    "    \"\"\"\n",
    "    this function converts temperature from celsius to fahrenheit\n",
    "\n",
    "    \"\"\"\n",
    "    if unit == 'C':\n",
    "        return temp * 9/5 +32\n",
    "    elif unit == 'F':\n",
    "        return (temp - 32) * 5/9\n",
    "    else:\n",
    "        return None\n",
    "    \n",
    "convert_temp(35,'F')\n",
    "convert_temp(1.66,'C')\n"
   ]
  },
  {
   "cell_type": "code",
   "execution_count": 6,
   "metadata": {},
   "outputs": [
    {
     "name": "stdout",
     "output_type": "stream",
     "text": [
      "False\n",
      "True\n"
     ]
    }
   ],
   "source": [
    "# password strength checker\n",
    "def is_strong_password(password):\n",
    "    if len(password) < 8:\n",
    "        return False\n",
    "    if not any (char.isdigit() for char in password):\n",
    "        return False\n",
    "    if not any (char.islower() for char in password):\n",
    "        return False\n",
    "    if not any (char.isupper() for char in password):\n",
    "        return False\n",
    "    if not any (char in '!@#$%^&*' for char in password):\n",
    "        return False\n",
    "    return True\n",
    "    \n",
    "   \n",
    "print(is_strong_password(\"WeekPassword\"))\n",
    "print(is_strong_password(\"P@ssw0rd\"))\n",
    "\n"
   ]
  },
  {
   "cell_type": "code",
   "execution_count": 7,
   "metadata": {},
   "outputs": [
    {
     "name": "stdout",
     "output_type": "stream",
     "text": [
      "5.0\n"
     ]
    }
   ],
   "source": [
    "# Calculate total cost of items in shopping cart\n",
    "\n",
    "def total_cart_cost(cart):\n",
    "    total_cost = 0\n",
    "    for item in cart:\n",
    "        total_cost = (item['price'] * item['quantity']) + total_cost\n",
    "    return total_cost\n",
    "\n",
    "\n",
    "\n",
    "cart = [\n",
    "    {'name': 'apple','price' : 0.6, 'quantity' : 4},\n",
    "    {'name': 'banana','price' : 0.4, 'quantity' : 5},\n",
    "    {'name': 'oranges','price' : 0.2, 'quantity' : 3}]\n",
    "\n",
    "print(total_cart_cost(cart))\n"
   ]
  },
  {
   "cell_type": "code",
   "execution_count": 9,
   "metadata": {},
   "outputs": [
    {
     "data": {
      "text/plain": [
       "True"
      ]
     },
     "execution_count": 9,
     "metadata": {},
     "output_type": "execute_result"
    }
   ],
   "source": [
    "# check if string is palindrome\n",
    "\n",
    "def is_palindrome(str):\n",
    "    str = str.lower().replace(\" \",\"\")\n",
    "    return str == str[::-1]\n",
    "\n",
    "is_palindrome(\"A man a plan a canal panama\")\n",
    "\n"
   ]
  },
  {
   "cell_type": "code",
   "execution_count": 10,
   "metadata": {},
   "outputs": [
    {
     "name": "stdout",
     "output_type": "stream",
     "text": [
      "120\n"
     ]
    }
   ],
   "source": [
    "# calculate factorial of function using recursion\n",
    "\n",
    "def factorial(n) :\n",
    "    if n == 0:\n",
    "        return 1\n",
    "    else :\n",
    "        return n * factorial(n-1)\n",
    "    \n",
    "print(factorial(5))"
   ]
  },
  {
   "cell_type": "code",
   "execution_count": 15,
   "metadata": {},
   "outputs": [
    {
     "data": {
      "text/plain": [
       "{'hello': 1,\n",
       " 'world': 1,\n",
       " 'this': 1,\n",
       " 'is': 1,\n",
       " 'from': 1,\n",
       " 'python': 1,\n",
       " 'and': 2,\n",
       " 'i': 3,\n",
       " 'am': 2,\n",
       " 'trending': 1,\n",
       " 'these': 1,\n",
       " 'days': 1,\n",
       " 'high': 1,\n",
       " 'level': 1,\n",
       " 'programming': 1,\n",
       " 'language': 1,\n",
       " 'have': 1,\n",
       " 'numerous': 1,\n",
       " 'libraries': 1,\n",
       " 'in': 1,\n",
       " 'me': 1}"
      ]
     },
     "execution_count": 15,
     "metadata": {},
     "output_type": "execute_result"
    }
   ],
   "source": [
    "# write a function to read a file and count the frequency of each word\n",
    "def count_word_frequency(file_path):\n",
    "    word_count = {}\n",
    "    with open(file_path,'r') as file:\n",
    "        for line in file:\n",
    "            words = line.split()\n",
    "            for word in words:\n",
    "                word = word.lower().strip(',.!?;:\"\\'')\n",
    "                word_count[word]= word_count.get(word,0) + 1\n",
    "    return word_count\n",
    "\n",
    "file_path = \"sample.txt\"\n",
    "count_word_frequency(file_path)\n",
    "                "
   ]
  },
  {
   "cell_type": "code",
   "execution_count": 16,
   "metadata": {},
   "outputs": [
    {
     "data": {
      "text/plain": [
       "True"
      ]
     },
     "execution_count": 16,
     "metadata": {},
     "output_type": "execute_result"
    }
   ],
   "source": [
    "# Validate email address\n",
    "import re\n",
    "\n",
    "def validate_email(email):\n",
    "    pattern = r'[a-zA-Z0-9_+-]+@[a-zA-Z0-9]+\\.[a-zA-Z0-9-.]+$'\n",
    "    return re.match(pattern,email) is not None\n",
    "\n",
    "validate_email(\"alekhyamsl@gmail.com\")"
   ]
  },
  {
   "cell_type": "code",
   "execution_count": null,
   "metadata": {},
   "outputs": [],
   "source": []
  }
 ],
 "metadata": {
  "kernelspec": {
   "display_name": "Python 3",
   "language": "python",
   "name": "python3"
  },
  "language_info": {
   "codemirror_mode": {
    "name": "ipython",
    "version": 3
   },
   "file_extension": ".py",
   "mimetype": "text/x-python",
   "name": "python",
   "nbconvert_exporter": "python",
   "pygments_lexer": "ipython3",
   "version": "3.12.0"
  }
 },
 "nbformat": 4,
 "nbformat_minor": 2
}
