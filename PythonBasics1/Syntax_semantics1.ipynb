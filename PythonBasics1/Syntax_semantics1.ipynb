{
 "cells": [
  {
   "cell_type": "markdown",
   "metadata": {},
   "source": [
    "Syntax refers to set of rules that defines correct arrangements of words and symbols in code    \n",
    "Semantics refers to meaning or interpretation of code that it is supposed to do"
   ]
  },
  {
   "cell_type": "code",
   "execution_count": null,
   "metadata": {},
   "outputs": [
    {
     "data": {
      "text/plain": [
       "'\\nthis is example of\\nmulti line\\ncomments\\nwhich is included in triple quotes\\n\\n'"
      ]
     },
     "execution_count": 2,
     "metadata": {},
     "output_type": "execute_result"
    }
   ],
   "source": [
    "# comments\n",
    "# single line comments strats with #\n",
    "\"\"\"\n",
    "this is example of\n",
    "multi line\n",
    "comments\n",
    "which is included in triple quotes\n",
    "\n",
    "\"\"\"\n",
    "# usually triple quotes does not work in jupyter notebook"
   ]
  },
  {
   "cell_type": "code",
   "execution_count": 1,
   "metadata": {},
   "outputs": [
    {
     "name": "stdout",
     "output_type": "stream",
     "text": [
      "Alekhya\n",
      "Kuchipudi\n"
     ]
    }
   ],
   "source": [
    "# Python is case sensitive\n",
    "name = \"Alekhya\"\n",
    "Name = \"Kuchipudi\"\n",
    "print(name)\n",
    "print(Name)"
   ]
  },
  {
   "cell_type": "code",
   "execution_count": null,
   "metadata": {},
   "outputs": [
    {
     "name": "stdout",
     "output_type": "stream",
     "text": [
      "person is major\n"
     ]
    }
   ],
   "source": [
    "# Indentation\n",
    "# python uses indentation to determine grouping of statements, \n",
    "# i.e all statements withing block must ne indented at same level, usually tab spacing is maintained\n",
    "\n",
    "age = 32\n",
    "if age > 18:\n",
    "    print(\"person is major\")"
   ]
  },
  {
   "cell_type": "code",
   "execution_count": null,
   "metadata": {},
   "outputs": [
    {
     "name": "stdout",
     "output_type": "stream",
     "text": [
      "30\n"
     ]
    }
   ],
   "source": [
    "# Line continuation -> we use \\\n",
    "total = 1+2+3+4+5+\\\n",
    "1+2+3+4+5\n",
    "print(total)"
   ]
  },
  {
   "cell_type": "code",
   "execution_count": 5,
   "metadata": {},
   "outputs": [
    {
     "name": "stdout",
     "output_type": "stream",
     "text": [
      "15\n"
     ]
    }
   ],
   "source": [
    "# Multiple statements in sigle line\n",
    "x = 5; y = 10; z = x + y\n",
    "print(z)\n"
   ]
  },
  {
   "cell_type": "code",
   "execution_count": 7,
   "metadata": {},
   "outputs": [
    {
     "name": "stdout",
     "output_type": "stream",
     "text": [
      "<class 'str'>\n",
      "<class 'int'>\n"
     ]
    }
   ],
   "source": [
    "# variable assignement\n",
    "age = 32 # in python we dont specifically define data type of variable\n",
    "name = \"Alekhya\"\n",
    "print(type(name))\n",
    "print(type(age))"
   ]
  },
  {
   "cell_type": "code",
   "execution_count": 8,
   "metadata": {},
   "outputs": [
    {
     "name": "stdout",
     "output_type": "stream",
     "text": [
      "<class 'str'>\n",
      "<class 'int'>\n"
     ]
    }
   ],
   "source": [
    "var = \"alekhya\"\n",
    "print(type(var))\n",
    "var = 32\n",
    "print(type(var))"
   ]
  },
  {
   "cell_type": "code",
   "execution_count": 9,
   "metadata": {},
   "outputs": [
    {
     "name": "stdout",
     "output_type": "stream",
     "text": [
      "correct indentation\n",
      "This will print\n",
      "print outside if block\n"
     ]
    }
   ],
   "source": [
    "# code example of indenatation\n",
    "if True:\n",
    "    print(\"correct indentation\")\n",
    "    if False:\n",
    "        print(\"This will not print\")\n",
    "    print(\"This will print\")\n",
    "print(\"print outside if block\")"
   ]
  },
  {
   "cell_type": "code",
   "execution_count": null,
   "metadata": {},
   "outputs": [],
   "source": []
  }
 ],
 "metadata": {
  "kernelspec": {
   "display_name": "Python 3",
   "language": "python",
   "name": "python3"
  },
  "language_info": {
   "codemirror_mode": {
    "name": "ipython",
    "version": 3
   },
   "file_extension": ".py",
   "mimetype": "text/x-python",
   "name": "python",
   "nbconvert_exporter": "python",
   "pygments_lexer": "ipython3",
   "version": "3.12.0"
  }
 },
 "nbformat": 4,
 "nbformat_minor": 2
}
