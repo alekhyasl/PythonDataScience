{
 "cells": [
  {
   "cell_type": "code",
   "execution_count": 3,
   "metadata": {},
   "outputs": [
    {
     "name": "stdout",
     "output_type": "stream",
     "text": [
      "['******', '******', '******', '******', '******', '******']\n",
      "[]\n",
      "square size cannot be neagative\n"
     ]
    }
   ],
   "source": [
    "def generate_square(n):\n",
    "    \"\"\"\n",
    "    Function to return a square pattern of '*' of side n as a list of strings.\n",
    "    \n",
    "    Parameters:\n",
    "    n (int): The size of the square.\n",
    "    \n",
    "    Returns:\n",
    "    list: A list of strings where each string represents a row of the square.\n",
    "    \"\"\"\n",
    "    # Your code here\n",
    "    lst = []\n",
    "    if n >= 1:\n",
    "        for i in range(1,n+1):\n",
    "            lst.append('*'*n)\n",
    "        return lst\n",
    "    if n < 0:\n",
    "        return \"square size cannot be neagative\"\n",
    "    if n == 0:\n",
    "        return lst\n",
    "print(generate_square(6))\n",
    "print(generate_square(0))\n",
    "print(generate_square(-3))\n"
   ]
  },
  {
   "cell_type": "code",
   "execution_count": 5,
   "metadata": {},
   "outputs": [
    {
     "name": "stdout",
     "output_type": "stream",
     "text": [
      "['*']\n",
      "['**', '**']\n",
      "['******', '*    *', '*    *', '*    *', '*    *', '******']\n"
     ]
    }
   ],
   "source": [
    "def generate_hollow_square(n):\n",
    "    \"\"\"\n",
    "    Function to return a hollow square pattern of '*' of side n as a list of strings.\n",
    "    \n",
    "    Parameters:\n",
    "    n (int): The size of the square.\n",
    "    \n",
    "    Returns:\n",
    "    list: A list of strings where each string represents a row of the hollow square.\n",
    "    \"\"\"\n",
    "    # Your code here\n",
    "    lst = []\n",
    "    for i in range(1,n+1):\n",
    "        if i == 1 or i == n:\n",
    "            lst.append('*'*n)\n",
    "        else:\n",
    "            lst.append('*'+' '*(n-2)+'*')\n",
    "    return lst\n",
    "print(generate_hollow_square(1))\n",
    "print(generate_hollow_square(2))\n",
    "print(generate_hollow_square(6))"
   ]
  },
  {
   "cell_type": "code",
   "execution_count": 6,
   "metadata": {},
   "outputs": [
    {
     "name": "stdout",
     "output_type": "stream",
     "text": [
      "['***', '***']\n",
      "['*']\n"
     ]
    }
   ],
   "source": [
    "def generate_rectangle(n, m):\n",
    "    \"\"\"\n",
    "    Function to return a rectangle pattern of '*' with length n and breadth m as a list of strings.\n",
    "    \n",
    "    Parameters:\n",
    "    n (int): The number of rows in the rectangle.\n",
    "    m (int): The number of columns in the rectangle.\n",
    "    \n",
    "    Returns:\n",
    "    list: A list of strings where each string represents a row of the rectangle pattern.\n",
    "    \"\"\"\n",
    "    # Your code here\n",
    "    lst = []\n",
    "    for i in range(1,1+n):\n",
    "        lst.append('*' * m)\n",
    "    return lst\n",
    "\n",
    "print(generate_rectangle(2,3))\n",
    "print(generate_rectangle(1,1))\n"
   ]
  },
  {
   "cell_type": "code",
   "execution_count": 7,
   "metadata": {},
   "outputs": [
    {
     "name": "stdout",
     "output_type": "stream",
     "text": [
      "['*']\n",
      "['*', '**', '***', '****', '*****', '******']\n"
     ]
    }
   ],
   "source": [
    "def generate_triangle(n):\n",
    "    \"\"\"\n",
    "    Function to return a right-angled triangle of '*' of side n as a list of strings.\n",
    "    \n",
    "    Parameters:\n",
    "    n (int): The height and base of the triangle.\n",
    "    \n",
    "    Returns:\n",
    "    list: A list of strings where each string represents a row of the triangle.\n",
    "    \"\"\"\n",
    "    # Your code here\n",
    "    triangle = []\n",
    "    for i in range(1,n+1):\n",
    "        triangle.append('*'*i)\n",
    "    return triangle\n",
    "        \n",
    "print(generate_triangle(1))\n",
    "print(generate_triangle(6))"
   ]
  },
  {
   "cell_type": "code",
   "execution_count": 8,
   "metadata": {},
   "outputs": [
    {
     "name": "stdout",
     "output_type": "stream",
     "text": [
      "['***', '**', '*']\n",
      "['*']\n",
      "['****', '***', '**', '*']\n"
     ]
    }
   ],
   "source": [
    "def generate_inverted_triangle(n):\n",
    "    \"\"\"\n",
    "    Function to return an inverted right-angled triangle of '*' of side n as a list of strings.\n",
    "    \n",
    "    Parameters:\n",
    "    n (int): The height and base of the triangle.\n",
    "    \n",
    "    Returns:\n",
    "    list: A list of strings where each string represents a row of the triangle.\n",
    "    \"\"\"\n",
    "    # Your code here\n",
    "    inverted_triangle = []\n",
    "    for i in range(n,0,-1):\n",
    "        inverted_triangle.append('*' * i)\n",
    "    return inverted_triangle\n",
    "\n",
    "print(generate_inverted_triangle(3))\n",
    "print(generate_inverted_triangle(1))\n",
    "print(generate_inverted_triangle(4))"
   ]
  },
  {
   "cell_type": "code",
   "execution_count": 14,
   "metadata": {},
   "outputs": [
    {
     "name": "stdout",
     "output_type": "stream",
     "text": [
      "['*']\n",
      "['  *  ', ' *** ', '*****']\n",
      "['    *    ', '   ***   ', '  *****  ', ' ******* ', '*********']\n"
     ]
    }
   ],
   "source": [
    "def generate_pyramid(n):\n",
    "    \"\"\"\n",
    "    Function to return a pyramid pattern of '*' of side n as a list of strings.\n",
    "    \n",
    "    Parameters:\n",
    "    n (int): The number of rows in the pyramid.\n",
    "    \n",
    "    Returns:\n",
    "    list: A list of strings where each string represents a row of the pyramid.\n",
    "    \"\"\"\n",
    "    # Your code here\n",
    "    pyramid_lst = []\n",
    "    for i in range(1,n+1):\n",
    "        pyramid_lst.append(('*' * ((2 *i)-1)).center(((2 * n)-1),\" \"))\n",
    "    return pyramid_lst\n",
    "    \n",
    "        \n",
    "print(generate_pyramid(1))\n",
    "print(generate_pyramid(3))\n",
    "print(generate_pyramid(5))"
   ]
  },
  {
   "cell_type": "code",
   "execution_count": 15,
   "metadata": {},
   "outputs": [
    {
     "name": "stdout",
     "output_type": "stream",
     "text": [
      "['***********', ' ********* ', '  *******  ', '   *****   ', '    ***    ', '     *     ']\n",
      "['*']\n",
      "['*****', ' *** ', '  *  ']\n"
     ]
    }
   ],
   "source": [
    "def generate_inverted_pyramid(n):\n",
    "    \"\"\"\n",
    "    Function to return an inverted pyramid pattern of '*' of side n as a list of strings.\n",
    "    \n",
    "    Parameters:\n",
    "    n (int): The number of rows in the inverted pyramid.\n",
    "    \n",
    "    Returns:\n",
    "    list: A list of strings where each string represents a row of the inverted pyramid.\n",
    "    \"\"\"\n",
    "    # Your code here\n",
    "    inv_pyramid_lst = []\n",
    "    for i in range(n,0,-1):\n",
    "        inv_pyramid_lst.append((((2 * i) - 1) * \"*\").center(((2 * n) - 1),\" \"))\n",
    "    return inv_pyramid_lst\n",
    "\n",
    "        \n",
    "print(generate_inverted_pyramid(6))\n",
    "print(generate_inverted_pyramid(1))\n",
    "print(generate_inverted_pyramid(3))"
   ]
  },
  {
   "cell_type": "code",
   "execution_count": 11,
   "metadata": {},
   "outputs": [
    {
     "name": "stdout",
     "output_type": "stream",
     "text": [
      "['1']\n",
      "['1', '22', '333']\n",
      "['1', '22', '333', '4444', '55555']\n"
     ]
    }
   ],
   "source": [
    "def generate_number_triangle(n):\n",
    "    \"\"\"\n",
    "    Function to return a right-angled triangle of repeated numbers of side n as a list of strings.\n",
    "    \n",
    "    Parameters:\n",
    "    n (int): The height of the triangle.\n",
    "    \n",
    "    Returns:\n",
    "    list: A list of strings where each string represents a row of the triangle.\n",
    "    \"\"\"\n",
    "    # Your code here\n",
    "    num_triangle_lst = []\n",
    "    for i in range(1,n+1):\n",
    "        num_triangle_lst.append((str(i)*i))\n",
    "    return num_triangle_lst\n",
    "print(generate_number_triangle(1))\n",
    "print(generate_number_triangle(3))\n",
    "print(generate_number_triangle(5))\n",
    "        \n"
   ]
  },
  {
   "cell_type": "code",
   "execution_count": 13,
   "metadata": {},
   "outputs": [
    {
     "name": "stdout",
     "output_type": "stream",
     "text": [
      "['1 ', '2 3 ', '4 5 6 ', '7 8 9 10 ', '11 12 13 14 15 ']\n",
      "['1 ', '2 3 ']\n",
      "['1 ']\n"
     ]
    }
   ],
   "source": [
    "def generate_floyds_triangle(n):\n",
    "    \"\"\"\n",
    "    Function to return the first n rows of Floyd's Triangle as a list of strings.\n",
    "    \n",
    "    Parameters:\n",
    "    n (int): The number of rows in the triangle.\n",
    "    \n",
    "    Returns:\n",
    "    list: A list of strings where each string represents a row of Floyd's Triangle.\n",
    "    \"\"\"\n",
    "    # Your code here\n",
    "    floyds_lst = []\n",
    "    count = 0\n",
    "    for i in range(1,n+1):\n",
    "        element = \"\"\n",
    "        for j in range(1,i+1):\n",
    "            count = count + 1\n",
    "            element = element + str(count) + \" \"\n",
    "        floyds_lst.append(element)\n",
    "    return floyds_lst\n",
    "print(generate_floyds_triangle(5))\n",
    "print(generate_floyds_triangle(2))\n",
    "print(generate_floyds_triangle(1))"
   ]
  },
  {
   "cell_type": "code",
   "execution_count": null,
   "metadata": {},
   "outputs": [
    {
     "name": "stdout",
     "output_type": "stream",
     "text": [
      "['  *  ', ' *** ', '*****', ' *** ', '  *  ']\n",
      "['*']\n",
      "['    *    ', '   ***   ', '  *****  ', ' ******* ', '*********', ' ******* ', '  *****  ', '   ***   ', '    *    ']\n"
     ]
    }
   ],
   "source": [
    "def generate_diamond(n):\n",
    "    \"\"\"\n",
    "    Function to return a diamond pattern of '*' of side n as a list of strings.\n",
    "    \n",
    "    Parameters:\n",
    "    n (int): The number of rows for the upper part of the diamond.\n",
    "    \n",
    "    Returns:\n",
    "    list: A list of strings where each string represents a row of the diamond.\n",
    "    \"\"\"\n",
    "    # Your code here\n",
    "    diamond_lst = []\n",
    "    for i in range(1,n+1):\n",
    "        diamond_lst.append((\"*\" * ((2 * i)-1)).center(((2 * n)-1),' '))\n",
    "        \n",
    "    for j in range(n-1,0,-1):\n",
    "        diamond_lst.append((\"*\" * ((2 * j) - 1)).center(((2 * n)-1),' '))\n",
    "         \n",
    "    return diamond_lst\n",
    "print(generate_diamond(3))\n",
    "print(generate_diamond(1))\n",
    "print(generate_diamond(5))\n",
    "\"alekhya\".strip()"
   ]
  },
  {
   "cell_type": "code",
   "execution_count": 17,
   "metadata": {},
   "outputs": [
    {
     "name": "stdout",
     "output_type": "stream",
     "text": [
      "['  *', ' **', '***']\n",
      "['    *', '   **', '  ***', ' ****', '*****']\n",
      "['*']\n"
     ]
    }
   ],
   "source": [
    "def generate_right_angled_triangle(n):\n",
    "    \"\"\"\n",
    "    Function to return a right-angled triangle of '*' of side n as a list of strings.\n",
    "    \n",
    "    Parameters:\n",
    "    n (int): The height of the triangle.\n",
    "    \n",
    "    Returns:\n",
    "    list: A list of strings where each string represents a row of the triangle.\n",
    "    \"\"\"\n",
    "    # Your code here\n",
    "    rt_triangle_lst = []\n",
    "    \n",
    "    for i in range(1,n+1):\n",
    "        rt_triangle_lst.append((' ' * (n-i)) + ('*' * i))\n",
    "    return rt_triangle_lst\n",
    "\n",
    "print(generate_right_angled_triangle(3))\n",
    "print(generate_right_angled_triangle(5))\n",
    "print(generate_right_angled_triangle(1))\n"
   ]
  },
  {
   "cell_type": "code",
   "execution_count": 18,
   "metadata": {},
   "outputs": [
    {
     "name": "stdout",
     "output_type": "stream",
     "text": [
      "['*****', ' *** ', '  *  ', ' *** ', '*****']\n",
      "['*']\n",
      "['*********', ' ******* ', '  *****  ', '   ***   ', '    *    ', '   ***   ', '  *****  ', ' ******* ', '*********']\n"
     ]
    }
   ],
   "source": [
    "def generate_sandglass(n):\n",
    "    \"\"\"\n",
    "    Function to return a sandglass pattern of '*' of side n as a list of strings.\n",
    "    \n",
    "    Parameters:\n",
    "    n (int): The height of the sandglass.\n",
    "    \n",
    "    Returns:\n",
    "    list: A list of strings where each string represents a row of the sandglass pattern.\n",
    "    \"\"\"\n",
    "    # Your code here\n",
    "    sandglass_lst = []\n",
    "    for i in range(n,0,-1):\n",
    "        sandglass_lst.append(('*' * (( 2 * i) - 1)).center((( 2 * n) - 1),\" \"))\n",
    "    \n",
    "    for j in range(2,n+1):\n",
    "        sandglass_lst.append(('*' * (( 2 * j) - 1)).center((( 2 * n) - 1),\" \"))\n",
    "    return sandglass_lst\n",
    "        \n",
    "print(generate_sandglass(3)) \n",
    "print(generate_sandglass(1))       \n",
    "print(generate_sandglass(5))             \n",
    "        \n"
   ]
  },
  {
   "cell_type": "code",
   "execution_count": 19,
   "metadata": {},
   "outputs": [
    {
     "name": "stdout",
     "output_type": "stream",
     "text": [
      "['*']\n",
      "['*', '**']\n",
      "['*', '**', '***']\n",
      "['*', '**', '* *', '****']\n"
     ]
    }
   ],
   "source": [
    "def generate_hollow_right_angled_triangle(n):\n",
    "    \"\"\"\n",
    "    Function to return a hollow right-angled triangle of '*' of side n as a list of strings.\n",
    "    \n",
    "    Parameters:\n",
    "    n (int): The height of the triangle.\n",
    "    \n",
    "    Returns:\n",
    "    list: A list of strings where each string represents a row of the triangle.\n",
    "    \"\"\"\n",
    "    # Your code here\n",
    "    hollow_triangle_lst = []\n",
    "    \n",
    "    for i in range(1,n+1):\n",
    "        if i == 1 or i == n:\n",
    "            hollow_triangle_lst.append(\"*\" * i)\n",
    "        else:\n",
    "            hollow_triangle_lst.append(\"*\" + (\" \" * (i -2)) + \"*\")\n",
    "    return(hollow_triangle_lst)\n",
    "            \n",
    "            \n",
    "print(generate_hollow_right_angled_triangle(1))\n",
    "print(generate_hollow_right_angled_triangle(2))\n",
    "print(generate_hollow_right_angled_triangle(3))\n",
    "print(generate_hollow_right_angled_triangle(4))"
   ]
  },
  {
   "cell_type": "code",
   "execution_count": 21,
   "metadata": {},
   "outputs": [
    {
     "name": "stdout",
     "output_type": "stream",
     "text": [
      "['****', '* *', '**', '*']\n",
      "['*']\n"
     ]
    }
   ],
   "source": [
    "def generate_hollow_inverted_right_angled_triangle(n):\n",
    "    \"\"\"\n",
    "    Function to return a hollow inverted right-angled triangle of '*' of side n as a list of strings.\n",
    "    \n",
    "    Parameters:\n",
    "    n (int): The height of the triangle.\n",
    "    \n",
    "    Returns:\n",
    "    list: A list of strings where each string represents a row of the triangle.\n",
    "    \"\"\"\n",
    "    # Your code here\n",
    "    \n",
    "    hollow_triangle_lst = []\n",
    "    \n",
    "    for i in range(n,0,-1):\n",
    "        if i == n or i ==1:\n",
    "            hollow_triangle_lst.append('*' * i)\n",
    "        else:\n",
    "            hollow_triangle_lst.append('*' +( ' ' * (i -2) ) + '*')\n",
    "    return hollow_triangle_lst\n",
    "print(generate_hollow_inverted_right_angled_triangle(4))\n",
    "print(generate_hollow_inverted_right_angled_triangle(1))\n",
    "\n",
    "\n",
    "            \n",
    "            \n"
   ]
  },
  {
   "cell_type": "code",
   "execution_count": 29,
   "metadata": {},
   "outputs": [
    {
     "data": {
      "text/plain": [
       "['   1   ', '  1 2  ', ' 1 2 3 ', '1 2 3 4']"
      ]
     },
     "execution_count": 29,
     "metadata": {},
     "output_type": "execute_result"
    }
   ],
   "source": [
    "def generate_number_pyramid(n):\n",
    "    \"\"\"\n",
    "    Function to return a pyramid pattern of numbers of height n as a list of strings.\n",
    "    \n",
    "    Parameters:\n",
    "    n (int): The height of the pyramid.\n",
    "    \n",
    "    Returns:\n",
    "    list: A list of strings where each string represents a row of the pyramid pattern.\n",
    "    \"\"\"\n",
    "    # Your code here\n",
    "    number_pyramid_lst = []\n",
    "    \n",
    "    for i in range (1,n+1):\n",
    "        element = ''\n",
    "        for j in range(1,i+1):\n",
    "            element = element + str(j)  + ' '\n",
    "            \n",
    "        element = element.strip()          \n",
    "        number_pyramid_lst.append((element.center(((2 * n)-1),\" \")))\n",
    "    return number_pyramid_lst\n",
    "            \n",
    "generate_number_pyramid(4)        \n",
    "        \n",
    "        \n",
    "        \n"
   ]
  },
  {
   "cell_type": "code",
   "execution_count": null,
   "metadata": {},
   "outputs": [],
   "source": []
  }
 ],
 "metadata": {
  "kernelspec": {
   "display_name": "Python 3",
   "language": "python",
   "name": "python3"
  },
  "language_info": {
   "codemirror_mode": {
    "name": "ipython",
    "version": 3
   },
   "file_extension": ".py",
   "mimetype": "text/x-python",
   "name": "python",
   "nbconvert_exporter": "python",
   "pygments_lexer": "ipython3",
   "version": "3.12.0"
  }
 },
 "nbformat": 4,
 "nbformat_minor": 2
}
