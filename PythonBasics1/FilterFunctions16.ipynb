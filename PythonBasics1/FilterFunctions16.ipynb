{
 "cells": [
  {
   "cell_type": "code",
   "execution_count": null,
   "metadata": {},
   "outputs": [
    {
     "data": {
      "text/plain": [
       "True"
      ]
     },
     "execution_count": 1,
     "metadata": {},
     "output_type": "execute_result"
    }
   ],
   "source": [
    "# Filter function\n",
    "# used to filter out items from list(or any other iterable) based on condition\n",
    "# syntax filter(function,iterable)\n",
    "def even(num):\n",
    "    if num%2 == 0:\n",
    "        return True\n",
    "    \n",
    "even(4)"
   ]
  },
  {
   "cell_type": "code",
   "execution_count": 2,
   "metadata": {},
   "outputs": [
    {
     "data": {
      "text/plain": [
       "[2, 4, 6, 8, 10]"
      ]
     },
     "execution_count": 2,
     "metadata": {},
     "output_type": "execute_result"
    }
   ],
   "source": [
    "lst = [1,2,3,4,5,6,7,8,9,10]\n",
    "list(filter(even,lst))"
   ]
  },
  {
   "cell_type": "code",
   "execution_count": 3,
   "metadata": {},
   "outputs": [
    {
     "data": {
      "text/plain": [
       "[6, 7, 8, 9, 10]"
      ]
     },
     "execution_count": 3,
     "metadata": {},
     "output_type": "execute_result"
    }
   ],
   "source": [
    "# filter with lambda\n",
    "numbers = [1,2,3,4,5,6,7,8,9,10]\n",
    "# find numbers that are graeter than 5\n",
    "list(filter(lambda x : x >5,numbers))"
   ]
  },
  {
   "cell_type": "code",
   "execution_count": 4,
   "metadata": {},
   "outputs": [
    {
     "data": {
      "text/plain": [
       "[6, 8, 10]"
      ]
     },
     "execution_count": 4,
     "metadata": {},
     "output_type": "execute_result"
    }
   ],
   "source": [
    "# filter with lambda function and multiple conditions\n",
    "numbers = [1,2,3,4,5,6,7,8,9,10]\n",
    "# find numbers that are greater than 5 and even\n",
    "list(filter(lambda x : x > 5 and x % 2 == 0,numbers))"
   ]
  },
  {
   "cell_type": "code",
   "execution_count": 5,
   "metadata": {},
   "outputs": [
    {
     "data": {
      "text/plain": [
       "[{'name': 'alekhya', 'age': 31, 'gender': 'F'},\n",
       " {'name': 'lakshmi', 'age': 38, 'gender': 'F'}]"
      ]
     },
     "execution_count": 5,
     "metadata": {},
     "output_type": "execute_result"
    }
   ],
   "source": [
    "# filter operation on dictionary to check if age is greater than 25 in dictionary\n",
    " \n",
    "\n",
    "people = [\n",
    "    {'name' : 'alekhya','age' :31, 'gender' : \"F\"},\n",
    "    {'name' : 'sri','age' :3, 'gender' : \"F\"},\n",
    "    {'name' : 'lakshmi','age' :38, 'gender' : \"F\"},\n",
    "    {'name' : 'mogalapu','age' :20, 'gender' : \"F\"}]\n",
    "\n",
    "def age_greater_than_25(person):\n",
    "    return person['age'] > 25\n",
    "\n",
    "list(filter(age_greater_than_25,people))"
   ]
  },
  {
   "cell_type": "code",
   "execution_count": null,
   "metadata": {},
   "outputs": [],
   "source": []
  }
 ],
 "metadata": {
  "kernelspec": {
   "display_name": "Python 3",
   "language": "python",
   "name": "python3"
  },
  "language_info": {
   "codemirror_mode": {
    "name": "ipython",
    "version": 3
   },
   "file_extension": ".py",
   "mimetype": "text/x-python",
   "name": "python",
   "nbconvert_exporter": "python",
   "pygments_lexer": "ipython3",
   "version": "3.12.0"
  }
 },
 "nbformat": 4,
 "nbformat_minor": 2
}
