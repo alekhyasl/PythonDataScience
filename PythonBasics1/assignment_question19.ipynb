{
 "cells": [
  {
   "cell_type": "markdown",
   "metadata": {},
   "source": [
    "# Lesson 1.2: Python Basics\n",
    "## Topics Covered:\n",
    "- Syntax and Semantics\n",
    "- Variables and Data Types\n",
    "- Basic Operators (Arithmetic, Comparison, Logical)\n"
   ]
  },
  {
   "cell_type": "markdown",
   "metadata": {},
   "source": [
    "## 1. Syntax and Semantics\n",
    "\n",
    "**Question 1:** Write a Python program to print \"Hello, World!\"."
   ]
  },
  {
   "cell_type": "code",
   "execution_count": 1,
   "metadata": {},
   "outputs": [
    {
     "name": "stdout",
     "output_type": "stream",
     "text": [
      "hello world\n"
     ]
    }
   ],
   "source": [
    "# Your code here\n",
    "print(\"hello world\")"
   ]
  },
  {
   "cell_type": "markdown",
   "metadata": {},
   "source": [
    "**Question 2:** Write a Python program that takes a user input and prints it."
   ]
  },
  {
   "cell_type": "code",
   "execution_count": 2,
   "metadata": {},
   "outputs": [
    {
     "name": "stdout",
     "output_type": "stream",
     "text": [
      "hi\n"
     ]
    }
   ],
   "source": [
    "# Your code here\n",
    "value  = input(\"enter the input\")\n",
    "print(value)"
   ]
  },
  {
   "cell_type": "markdown",
   "metadata": {},
   "source": [
    "**Question 3:** Write a Python program to check if a number is positive, negative, or zero."
   ]
  },
  {
   "cell_type": "code",
   "execution_count": 3,
   "metadata": {},
   "outputs": [
    {
     "name": "stdout",
     "output_type": "stream",
     "text": [
      "number is negative\n",
      "number is positive\n",
      "number is zero\n"
     ]
    }
   ],
   "source": [
    "# Your code here\n",
    "def check_number(n):\n",
    "    if n > 0:\n",
    "        return \"number is positive\"\n",
    "    elif n < 0:\n",
    "        return \"number is negative\"\n",
    "    elif n == 0:\n",
    "        return \"number is zero\"\n",
    "    else: \n",
    "        return \"invalid input\"\n",
    "\n",
    "print(check_number(-90))\n",
    "print(check_number(89))\n",
    "print(check_number(0))\n"
   ]
  },
  {
   "cell_type": "markdown",
   "metadata": {},
   "source": [
    "**Question 4:** Write a Python program to find the largest of three numbers."
   ]
  },
  {
   "cell_type": "code",
   "execution_count": 7,
   "metadata": {},
   "outputs": [
    {
     "name": "stdout",
     "output_type": "stream",
     "text": [
      "3 is largest\n",
      "13 is largest\n",
      "3 is largest\n"
     ]
    }
   ],
   "source": [
    "# Your code here\n",
    "def find_largest_num(num1,num2,num3):\n",
    "    if (num1 >= num2) and (num1 >= num3):\n",
    "        return str(num1) + \" is largest\"\n",
    "    elif (num2 >= num1) and (num2 >= num3):\n",
    "        return str(num2) + \" is largest\"\n",
    "    else :\n",
    "        return str(num3) + \" is largest\"\n",
    "    \n",
    "print(find_largest_num(2,3,3))\n",
    "print(find_largest_num(2,13,3))\n",
    "print(find_largest_num(2,-13,3))\n",
    "\n",
    "\n"
   ]
  },
  {
   "cell_type": "markdown",
   "metadata": {},
   "source": [
    "**Question 5:** Write a Python program to calculate the factorial of a number."
   ]
  },
  {
   "cell_type": "code",
   "execution_count": null,
   "metadata": {},
   "outputs": [
    {
     "name": "stdout",
     "output_type": "stream",
     "text": [
      "120\n"
     ]
    }
   ],
   "source": [
    "# Your code here\n",
    "def cal_factorial(n):\n",
    "    while n >= 0:\n",
    "        if n >= 1:\n",
    "            return n * cal_factorial(n-1)\n",
    "        elif n == 0:\n",
    "            return 1\n",
    "        n = n -1\n",
    "\n",
    "print(cal_factorial(5))"
   ]
  },
  {
   "cell_type": "markdown",
   "metadata": {},
   "source": [
    "## 2. Variables and Data Types\n",
    "\n",
    "**Question 6:** Create variables of different data types: integer, float, string, and boolean. Print their values and types."
   ]
  },
  {
   "cell_type": "code",
   "execution_count": 2,
   "metadata": {},
   "outputs": [
    {
     "name": "stdout",
     "output_type": "stream",
     "text": [
      "89\n",
      "89.9\n",
      "alekhya\n",
      "True\n",
      "<class 'int'>\n",
      "<class 'float'>\n",
      "<class 'str'>\n",
      "<class 'bool'>\n"
     ]
    }
   ],
   "source": [
    "# Your code here\n",
    "int_var = 89\n",
    "float_var = 89.9\n",
    "str_var = \"alekhya\"\n",
    "bool_var = True\n",
    "print(int_var)\n",
    "print(float_var)\n",
    "print(str_var)\n",
    "print(bool_var)\n",
    "print(type(int_var))\n",
    "print(type(float_var))\n",
    "print(type(str_var))\n",
    "print(type(bool_var))"
   ]
  },
  {
   "cell_type": "markdown",
   "metadata": {},
   "source": [
    "**Question 7:** Write a Python program to swap the values of two variables."
   ]
  },
  {
   "cell_type": "code",
   "execution_count": 7,
   "metadata": {},
   "outputs": [
    {
     "name": "stdout",
     "output_type": "stream",
     "text": [
      "(67, 'hello')\n",
      "(67, 'hello')\n"
     ]
    }
   ],
   "source": [
    "# Your code here\n",
    "def swap_values(val1,val2):\n",
    "    temp = val1\n",
    "    val1 = val2\n",
    "    val2 = temp\n",
    "    return val1,val2\n",
    "print(swap_values(\"hello\",67))\n",
    "\n",
    "# alternate code\n",
    "def swap_value(val1,val2):\n",
    "    val1,val2 = val2,val1\n",
    "    return val1,val2\n",
    "\n",
    "print(swap_values(\"hello\",67))\n",
    "\n"
   ]
  },
  {
   "cell_type": "markdown",
   "metadata": {},
   "source": [
    "**Question 8:** Write a Python program to convert Celsius to Fahrenheit."
   ]
  },
  {
   "cell_type": "code",
   "execution_count": 5,
   "metadata": {},
   "outputs": [
    {
     "name": "stdout",
     "output_type": "stream",
     "text": [
      "32.0\n",
      "194.0\n"
     ]
    }
   ],
   "source": [
    "# Your code here\n",
    "def convert_to_fahrenheit(celsius):\n",
    "    return (celsius *(9 / 5)) + 32\n",
    "\n",
    "print(convert_to_fahrenheit(0))\n",
    "print(convert_to_fahrenheit(90))"
   ]
  },
  {
   "cell_type": "markdown",
   "metadata": {},
   "source": [
    "**Question 9:** Write a Python program to concatenate two strings."
   ]
  },
  {
   "cell_type": "code",
   "execution_count": 6,
   "metadata": {},
   "outputs": [
    {
     "name": "stdout",
     "output_type": "stream",
     "text": [
      "hello45\n"
     ]
    }
   ],
   "source": [
    "# Your code here\n",
    "def str_concatenation(str1,str2):\n",
    "    return str(str1) + str(str2)\n",
    "print(str_concatenation(\"hello\",\"45\"))"
   ]
  },
  {
   "cell_type": "markdown",
   "metadata": {},
   "source": [
    "**Question 10:** Write a Python program to check if a variable is of a specific data type."
   ]
  },
  {
   "cell_type": "code",
   "execution_count": null,
   "metadata": {},
   "outputs": [
    {
     "name": "stdout",
     "output_type": "stream",
     "text": [
      "67 is not float data type\n",
      "69.0 is float data type\n"
     ]
    }
   ],
   "source": [
    "# Your code here\n",
    "def check_datatype(value):\n",
    "    if type(value) == float:\n",
    "        print(f\"{value} is float data type\")\n",
    "    else:\n",
    "        print(f\"{value} is not float data type\")\n",
    "check_datatype(67)\n",
    "check_datatype(69.0)\n",
    "\n",
    "# alternate way\n",
    "def check_data(value):\n",
    "    if isinstance(value,float):\n",
    "        print(f\"{value} is float data type\")\n",
    "    else:\n",
    "        print(f\"{value} is not float data type\")\n",
    "check_datatype(67)\n",
    "check_datatype(69.0) "
   ]
  },
  {
   "cell_type": "markdown",
   "metadata": {},
   "source": [
    "## 3. Basic Operators (Arithmetic, Comparison, Logical)\n",
    "\n",
    "**Question 11:** Write a Python program to perform arithmetic operations: addition, subtraction, multiplication, and division."
   ]
  },
  {
   "cell_type": "code",
   "execution_count": null,
   "metadata": {},
   "outputs": [],
   "source": [
    "# Your code here"
   ]
  },
  {
   "cell_type": "markdown",
   "metadata": {},
   "source": [
    "**Question 12:** Write a Python program to demonstrate comparison operators: equal to, not equal to, greater than, less than."
   ]
  },
  {
   "cell_type": "code",
   "execution_count": null,
   "metadata": {},
   "outputs": [],
   "source": [
    "# Your code here"
   ]
  },
  {
   "cell_type": "markdown",
   "metadata": {},
   "source": [
    "**Question 13:** Write a Python program to demonstrate logical operators: and, or, not."
   ]
  },
  {
   "cell_type": "code",
   "execution_count": null,
   "metadata": {},
   "outputs": [],
   "source": [
    "# Your code here"
   ]
  },
  {
   "cell_type": "markdown",
   "metadata": {},
   "source": [
    "**Question 14:** Write a Python program to calculate the square of a number."
   ]
  },
  {
   "cell_type": "code",
   "execution_count": null,
   "metadata": {},
   "outputs": [],
   "source": [
    "# Your code here"
   ]
  },
  {
   "cell_type": "markdown",
   "metadata": {},
   "source": [
    "**Question 15:** Write a Python program to check if a number is even or odd."
   ]
  },
  {
   "cell_type": "code",
   "execution_count": null,
   "metadata": {},
   "outputs": [],
   "source": [
    "# Your code here"
   ]
  },
  {
   "cell_type": "markdown",
   "metadata": {},
   "source": [
    "**Question 16:** Write a Python program to find the sum of the first n natural numbers."
   ]
  },
  {
   "cell_type": "code",
   "execution_count": null,
   "metadata": {},
   "outputs": [],
   "source": [
    "# Your code here"
   ]
  },
  {
   "cell_type": "markdown",
   "metadata": {},
   "source": [
    "**Question 17:** Write a Python program to check if a year is a leap year."
   ]
  },
  {
   "cell_type": "code",
   "execution_count": null,
   "metadata": {},
   "outputs": [],
   "source": [
    "# Your code here"
   ]
  },
  {
   "cell_type": "markdown",
   "metadata": {},
   "source": [
    "**Question 18:** Write a Python program to reverse a string."
   ]
  },
  {
   "cell_type": "code",
   "execution_count": null,
   "metadata": {},
   "outputs": [],
   "source": [
    "# Your code here"
   ]
  },
  {
   "cell_type": "markdown",
   "metadata": {},
   "source": [
    "**Question 19:** Write a Python program to check if a string is a palindrome."
   ]
  },
  {
   "cell_type": "code",
   "execution_count": null,
   "metadata": {},
   "outputs": [],
   "source": [
    "# Your code here"
   ]
  },
  {
   "cell_type": "markdown",
   "metadata": {},
   "source": [
    "**Question 20:** Write a Python program to sort a list of numbers in ascending order."
   ]
  },
  {
   "cell_type": "code",
   "execution_count": null,
   "metadata": {},
   "outputs": [],
   "source": [
    "# Your code here"
   ]
  }
 ],
 "metadata": {
  "kernelspec": {
   "display_name": "Python 3",
   "language": "python",
   "name": "python3"
  },
  "language_info": {
   "codemirror_mode": {
    "name": "ipython",
    "version": 3
   },
   "file_extension": ".py",
   "mimetype": "text/x-python",
   "name": "python",
   "nbconvert_exporter": "python",
   "pygments_lexer": "ipython3",
   "version": "3.12.0"
  }
 },
 "nbformat": 4,
 "nbformat_minor": 4
}
