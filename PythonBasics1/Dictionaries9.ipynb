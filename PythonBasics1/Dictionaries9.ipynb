{
 "cells": [
  {
   "cell_type": "code",
   "execution_count": null,
   "metadata": {},
   "outputs": [],
   "source": [
    "# dictionaries\n",
    "# unordered collection of items, store data in key value pairs\n",
    "# keys must be unique and are immutable while values can be any type"
   ]
  },
  {
   "cell_type": "code",
   "execution_count": 1,
   "metadata": {},
   "outputs": [
    {
     "name": "stdout",
     "output_type": "stream",
     "text": [
      "<class 'dict'>\n"
     ]
    }
   ],
   "source": [
    "# creating disctionaries\n",
    "empty_dict = {}\n",
    "print(type(empty_dict))"
   ]
  },
  {
   "cell_type": "code",
   "execution_count": 3,
   "metadata": {},
   "outputs": [
    {
     "name": "stdout",
     "output_type": "stream",
     "text": [
      "<class 'dict'>\n"
     ]
    }
   ],
   "source": [
    "empty_dic = dict()\n",
    "print(type(empty_dic))"
   ]
  },
  {
   "cell_type": "code",
   "execution_count": 5,
   "metadata": {},
   "outputs": [
    {
     "name": "stdout",
     "output_type": "stream",
     "text": [
      "{'name': 'alekhya', 'age': 67, 'grade': 'A'}\n"
     ]
    }
   ],
   "source": [
    "student = {\n",
    "    \"name\" : \"alekhya\",\n",
    "    \"age\" : 67,\n",
    "    \"grade\" : 'A'\n",
    "\n",
    "}\n",
    "print(student)"
   ]
  },
  {
   "cell_type": "code",
   "execution_count": null,
   "metadata": {},
   "outputs": [
    {
     "name": "stdout",
     "output_type": "stream",
     "text": [
      "{'name': 'Mogalapu', 'age': 67}\n"
     ]
    }
   ],
   "source": [
    "student = {\n",
    "    \"name\" : \"alekhya\",\n",
    "    \"age\" : 67,\n",
    "    \"name\" : 'Mogalapu'\n",
    "\n",
    "}\n",
    "print(student) # here we have duplicate key and we notice that the value gets replaced with recent value"
   ]
  },
  {
   "cell_type": "code",
   "execution_count": 8,
   "metadata": {},
   "outputs": [
    {
     "name": "stdout",
     "output_type": "stream",
     "text": [
      "A\n",
      "67\n"
     ]
    }
   ],
   "source": [
    "# accessing dictionary elements\n",
    "student = {\n",
    "    \"name\" : \"alekhya\",\n",
    "    \"age\" : 67,\n",
    "    \"grade\" : 'A'\n",
    "\n",
    "}\n",
    "print(student['grade'])\n",
    "print(student['age'])"
   ]
  },
  {
   "cell_type": "code",
   "execution_count": 9,
   "metadata": {},
   "outputs": [
    {
     "name": "stdout",
     "output_type": "stream",
     "text": [
      "A\n"
     ]
    }
   ],
   "source": [
    "# accessing elements using get method\n",
    "print(student.get('grade'))"
   ]
  },
  {
   "cell_type": "code",
   "execution_count": 10,
   "metadata": {},
   "outputs": [
    {
     "name": "stdout",
     "output_type": "stream",
     "text": [
      "None\n"
     ]
    }
   ],
   "source": [
    "print(student.get('last_name'))"
   ]
  },
  {
   "cell_type": "code",
   "execution_count": null,
   "metadata": {},
   "outputs": [
    {
     "name": "stdout",
     "output_type": "stream",
     "text": [
      "Not available\n"
     ]
    }
   ],
   "source": [
    "print(student.get('last_name','Not available')) # if value is not available it gives output as 'Not available"
   ]
  },
  {
   "cell_type": "code",
   "execution_count": 12,
   "metadata": {},
   "outputs": [
    {
     "name": "stdout",
     "output_type": "stream",
     "text": [
      "{'name': 'alekhya', 'age': 89, 'grade': 'A'}\n"
     ]
    }
   ],
   "source": [
    "# Modifying dictionary elements\n",
    "# Dictionary are mutable so you can add/update/delete elements\n",
    "student['age'] = 89\n",
    "print(student)"
   ]
  },
  {
   "cell_type": "code",
   "execution_count": 13,
   "metadata": {},
   "outputs": [
    {
     "name": "stdout",
     "output_type": "stream",
     "text": [
      "{'name': 'alekhya', 'age': 89, 'grade': 'A', 'address': 'Austin'}\n"
     ]
    }
   ],
   "source": [
    "student['address'] = 'Austin'\n",
    "print(student)"
   ]
  },
  {
   "cell_type": "code",
   "execution_count": 15,
   "metadata": {},
   "outputs": [
    {
     "name": "stdout",
     "output_type": "stream",
     "text": [
      "{'name': 'alekhya', 'age': 89, 'address': 'Austin'}\n"
     ]
    }
   ],
   "source": [
    "del student['grade'] # deletes key and value pair\n",
    "print(student)"
   ]
  },
  {
   "cell_type": "code",
   "execution_count": 16,
   "metadata": {},
   "outputs": [
    {
     "name": "stdout",
     "output_type": "stream",
     "text": [
      "dict_keys(['name', 'age', 'address'])\n"
     ]
    }
   ],
   "source": [
    "# dictionary methods\n",
    "\n",
    "keys = student.keys()\n",
    "print(keys)"
   ]
  },
  {
   "cell_type": "code",
   "execution_count": 17,
   "metadata": {},
   "outputs": [
    {
     "name": "stdout",
     "output_type": "stream",
     "text": [
      "dict_values(['alekhya', 89, 'Austin'])\n"
     ]
    }
   ],
   "source": [
    "values = student.values()\n",
    "print(values)"
   ]
  },
  {
   "cell_type": "code",
   "execution_count": null,
   "metadata": {},
   "outputs": [
    {
     "name": "stdout",
     "output_type": "stream",
     "text": [
      "dict_items([('name', 'alekhya'), ('age', 89), ('address', 'Austin')])\n"
     ]
    }
   ],
   "source": [
    "items = student.items()\n",
    "print(items) # in form of list of tuples"
   ]
  },
  {
   "cell_type": "code",
   "execution_count": 20,
   "metadata": {},
   "outputs": [
    {
     "name": "stdout",
     "output_type": "stream",
     "text": [
      "{'name': 'alekhya', 'age': 89, 'address': 'Austin'}\n"
     ]
    }
   ],
   "source": [
    "# shallow copy\n",
    "student_copy = student\n",
    "print(student_copy)"
   ]
  },
  {
   "cell_type": "code",
   "execution_count": null,
   "metadata": {},
   "outputs": [
    {
     "name": "stdout",
     "output_type": "stream",
     "text": [
      "Alekhya1\n",
      "Alekhya1\n"
     ]
    }
   ],
   "source": [
    "student['name'] = 'Alekhya1'\n",
    "print(student['name'])\n",
    "print(student_copy['name']) # here even though we are not applying changes to student_copy the changes reflect \n",
    "# in student_copy as well, this is where we need to use shallow copy in order to avoid changes reflection on \n",
    "#student_copy"
   ]
  },
  {
   "cell_type": "code",
   "execution_count": 22,
   "metadata": {},
   "outputs": [
    {
     "name": "stdout",
     "output_type": "stream",
     "text": [
      "{'name': 'Alekhya1', 'age': 89, 'address': 'Austin'}\n",
      "{'name': 'Alekhya2', 'age': 89, 'address': 'Austin'}\n",
      "{'name': 'Alekhya1', 'age': 89, 'address': 'Austin'}\n"
     ]
    }
   ],
   "source": [
    "student_copy = student.copy() # this copy function is responsible for doing shallow copy here\n",
    "# here it will allocate different memory to student_copy\n",
    "print(student_copy)\n",
    "student['name'] = 'Alekhya2'\n",
    "print(student)\n",
    "print(student_copy)"
   ]
  },
  {
   "cell_type": "code",
   "execution_count": 23,
   "metadata": {},
   "outputs": [
    {
     "name": "stdout",
     "output_type": "stream",
     "text": [
      "name\n",
      "age\n",
      "address\n"
     ]
    }
   ],
   "source": [
    "# iterating over dictionaries\n",
    "# we can use loops to iterate\n",
    "\n",
    "# iterating over keys\n",
    "for key in student.keys():\n",
    "    print(key)"
   ]
  },
  {
   "cell_type": "code",
   "execution_count": 24,
   "metadata": {},
   "outputs": [
    {
     "name": "stdout",
     "output_type": "stream",
     "text": [
      "Alekhya2\n",
      "89\n",
      "Austin\n"
     ]
    }
   ],
   "source": [
    "# Iterate over values\n",
    "for value in student.values():\n",
    "    print(value)"
   ]
  },
  {
   "cell_type": "code",
   "execution_count": 25,
   "metadata": {},
   "outputs": [
    {
     "name": "stdout",
     "output_type": "stream",
     "text": [
      "name : Alekhya2\n",
      "age : 89\n",
      "address : Austin\n"
     ]
    }
   ],
   "source": [
    "# iterate over key value pairs\n",
    "\n",
    "for key,value in student.items():\n",
    "    print(f\"{key} : {value}\")"
   ]
  },
  {
   "cell_type": "code",
   "execution_count": 27,
   "metadata": {},
   "outputs": [
    {
     "name": "stdout",
     "output_type": "stream",
     "text": [
      "{'student1': {'name': 'alekhya', 'age': 31}, 'student2': {'name': 'chaitu', 'age': 33}}\n"
     ]
    }
   ],
   "source": [
    "# nested dictionaries\n",
    "students = {\n",
    "    \"student1\" : {\"name\" : \"alekhya\",\"age\" : 31},\n",
    "    \"student2\" : {\"name\" : \"chaitu\" ,\"age\" : 33}\n",
    "}\n",
    "\n",
    "print(students)"
   ]
  },
  {
   "cell_type": "code",
   "execution_count": 28,
   "metadata": {},
   "outputs": [
    {
     "data": {
      "text/plain": [
       "'alekhya'"
      ]
     },
     "execution_count": 28,
     "metadata": {},
     "output_type": "execute_result"
    }
   ],
   "source": [
    "# Accessing elements in nested dictionaries\n",
    "students['student1']['name']"
   ]
  },
  {
   "cell_type": "code",
   "execution_count": 29,
   "metadata": {},
   "outputs": [
    {
     "data": {
      "text/plain": [
       "33"
      ]
     },
     "execution_count": 29,
     "metadata": {},
     "output_type": "execute_result"
    }
   ],
   "source": [
    "students['student2']['age']"
   ]
  },
  {
   "cell_type": "code",
   "execution_count": 30,
   "metadata": {},
   "outputs": [
    {
     "data": {
      "text/plain": [
       "dict_items([('student1', {'name': 'alekhya', 'age': 31}), ('student2', {'name': 'chaitu', 'age': 33})])"
      ]
     },
     "execution_count": 30,
     "metadata": {},
     "output_type": "execute_result"
    }
   ],
   "source": [
    "students.items()"
   ]
  },
  {
   "cell_type": "code",
   "execution_count": 33,
   "metadata": {},
   "outputs": [
    {
     "name": "stdout",
     "output_type": "stream",
     "text": [
      "student1 : {'name': 'alekhya', 'age': 31}\n",
      "name : alekhya\n",
      "age : 31\n",
      "student2 : {'name': 'chaitu', 'age': 33}\n",
      "name : chaitu\n",
      "age : 33\n"
     ]
    }
   ],
   "source": [
    "for student_id,student_info in students.items():\n",
    "    print(f\"{student_id} : {student_info}\")\n",
    "    for key,value in student_info.items():\n",
    "        print(f\"{key} : {value}\")"
   ]
  },
  {
   "cell_type": "code",
   "execution_count": 36,
   "metadata": {},
   "outputs": [
    {
     "data": {
      "text/plain": [
       "{0: 0, 1: 1, 2: 4, 3: 9, 4: 16}"
      ]
     },
     "execution_count": 36,
     "metadata": {},
     "output_type": "execute_result"
    }
   ],
   "source": [
    "# dictionary comprehension\n",
    "{x : x ** 2 for x in range(5)}"
   ]
  },
  {
   "cell_type": "code",
   "execution_count": null,
   "metadata": {},
   "outputs": [
    {
     "data": {
      "text/plain": [
       "{0: 0, 2: 4, 4: 16, 6: 36, 8: 64, 10: 100, 12: 144, 14: 196, 16: 256, 18: 324}"
      ]
     },
     "execution_count": 38,
     "metadata": {},
     "output_type": "execute_result"
    }
   ],
   "source": [
    "# conditional dictionary comprehension\n",
    "even_squares = {x : x ** 2 for x in range(20) if x % 2 == 0}\n",
    "print(even_squares)"
   ]
  },
  {
   "cell_type": "code",
   "execution_count": 42,
   "metadata": {},
   "outputs": [
    {
     "data": {
      "text/plain": [
       "{1: 2, 2: 3, 3: 3, 4: 4}"
      ]
     },
     "execution_count": 42,
     "metadata": {},
     "output_type": "execute_result"
    }
   ],
   "source": [
    "# practical example\n",
    "# use a dictionary to count frequency of elements in list\n",
    "numbers = [1,2,2,3,3,3,4,4,4,4,1,2]\n",
    "{ x : numbers.count(x) for x in set(numbers)}"
   ]
  },
  {
   "cell_type": "code",
   "execution_count": 43,
   "metadata": {},
   "outputs": [
    {
     "name": "stdout",
     "output_type": "stream",
     "text": [
      "{1: 2, 2: 3, 3: 3, 4: 4}\n"
     ]
    }
   ],
   "source": [
    "# second way\n",
    "frequency = {}\n",
    "for i in numbers:\n",
    "    if i in frequency:\n",
    "        frequency[i] += 1\n",
    "    else:\n",
    "        frequency[i] = 1\n",
    "print(frequency)\n"
   ]
  },
  {
   "cell_type": "code",
   "execution_count": 44,
   "metadata": {},
   "outputs": [
    {
     "name": "stdout",
     "output_type": "stream",
     "text": [
      "{'a': 1, 'b': 3, 'd': 4}\n"
     ]
    }
   ],
   "source": [
    "# Merge 2 dictionaries into 1\n",
    "\n",
    "dict1 = {'a' : 1,'b': 2}\n",
    "dict2 = {'b' : 3,'d': 4}\n",
    "merge_dict = {**dict1,**dict2}\n",
    "              \n",
    "print(merge_dict)"
   ]
  },
  {
   "cell_type": "code",
   "execution_count": null,
   "metadata": {},
   "outputs": [],
   "source": []
  }
 ],
 "metadata": {
  "kernelspec": {
   "display_name": "Python 3",
   "language": "python",
   "name": "python3"
  },
  "language_info": {
   "codemirror_mode": {
    "name": "ipython",
    "version": 3
   },
   "file_extension": ".py",
   "mimetype": "text/x-python",
   "name": "python",
   "nbconvert_exporter": "python",
   "pygments_lexer": "ipython3",
   "version": "3.12.0"
  }
 },
 "nbformat": 4,
 "nbformat_minor": 2
}
