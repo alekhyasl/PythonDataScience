{
 "cells": [
  {
   "cell_type": "code",
   "execution_count": 1,
   "metadata": {},
   "outputs": [
    {
     "name": "stdout",
     "output_type": "stream",
     "text": [
      "['buy groceries', 'pay bills', 'wash cloths', 'cook food', 'running']\n"
     ]
    }
   ],
   "source": [
    "# Manage a To do list\n",
    "to_do_list = ['buy groceries','pay bills','wash cloths']\n",
    "# Adding to to do list\n",
    "to_do_list.append('cook food')\n",
    "to_do_list.append('running')\n",
    "print(to_do_list)"
   ]
  },
  {
   "cell_type": "code",
   "execution_count": 2,
   "metadata": {},
   "outputs": [
    {
     "name": "stdout",
     "output_type": "stream",
     "text": [
      "['buy groceries', 'pay bills', 'wash cloths', 'cook food']\n"
     ]
    }
   ],
   "source": [
    "to_do_list.remove('running')\n",
    "print(to_do_list)"
   ]
  },
  {
   "cell_type": "code",
   "execution_count": 4,
   "metadata": {},
   "outputs": [
    {
     "name": "stdout",
     "output_type": "stream",
     "text": [
      "gentle remainder to pay bills\n"
     ]
    }
   ],
   "source": [
    "if 'pay bills' in to_do_list:\n",
    "    print(\"gentle remainder to pay bills\")"
   ]
  },
  {
   "cell_type": "code",
   "execution_count": 5,
   "metadata": {},
   "outputs": [
    {
     "name": "stdout",
     "output_type": "stream",
     "text": [
      "remaining to do list\n",
      "-buy groceries\n",
      "-pay bills\n",
      "-wash cloths\n",
      "-cook food\n"
     ]
    }
   ],
   "source": [
    "print(\"remaining to do list\")\n",
    "for task in to_do_list:\n",
    "    print(f\"-{task}\")"
   ]
  },
  {
   "cell_type": "code",
   "execution_count": 8,
   "metadata": {},
   "outputs": [
    {
     "name": "stdout",
     "output_type": "stream",
     "text": [
      "[23, 45, 56, 67, 98, 56]\n",
      "average grade : 57.5\n",
      "max grade is : 98\n",
      "min grade is : 23\n"
     ]
    }
   ],
   "source": [
    "# organising grades\n",
    "grades = [23,45,56,67,98]\n",
    "\n",
    "# adding new grade\n",
    "grades.append(56)\n",
    "\n",
    "print(grades)\n",
    "\n",
    "# Calculating avg grade\n",
    "average_grade = sum(grades) /len(grades)\n",
    "print(f\"average grade : {average_grade}\")\n",
    "\n",
    "# calculating highest and lowest grades\n",
    "max_grade = max(grades)\n",
    "min_grade = min(grades)\n",
    "\n",
    "print(f\"max grade is : {max_grade}\")\n",
    "print(f\"min grade is : {min_grade}\")"
   ]
  },
  {
   "cell_type": "code",
   "execution_count": 11,
   "metadata": {},
   "outputs": [
    {
     "name": "stdout",
     "output_type": "stream",
     "text": [
      "['apples', 'Mangoes', 'oranges', 'grapes', 'strawberries']\n",
      "['apples', 'oranges', 'grapes', 'strawberries']\n",
      "item is available\n",
      "-apples\n",
      "-oranges\n",
      "-grapes\n",
      "-strawberries\n"
     ]
    }
   ],
   "source": [
    "# Managing an inventory\n",
    "inventory = ['apples','Mangoes','oranges','grapes']\n",
    "\n",
    "# adding new item\n",
    "inventory.append('strawberries')\n",
    "print(inventory)\n",
    "\n",
    "# Removing item that is out of stock\n",
    "inventory.remove('Mangoes')\n",
    "print(inventory)\n",
    "\n",
    "# checking if item is in stock\n",
    "item = 'oranges'\n",
    "if item in inventory:\n",
    "    print(\"item is available\")\n",
    "else:\n",
    "    print(\"item unavilable\")\n",
    "\n",
    "# inventory list\n",
    "\n",
    "for item in inventory:\n",
    "    print(f'-{item}')"
   ]
  },
  {
   "cell_type": "code",
   "execution_count": null,
   "metadata": {},
   "outputs": [],
   "source": []
  }
 ],
 "metadata": {
  "kernelspec": {
   "display_name": "Python 3",
   "language": "python",
   "name": "python3"
  },
  "language_info": {
   "codemirror_mode": {
    "name": "ipython",
    "version": 3
   },
   "file_extension": ".py",
   "mimetype": "text/x-python",
   "name": "python",
   "nbconvert_exporter": "python",
   "pygments_lexer": "ipython3",
   "version": "3.12.0"
  }
 },
 "nbformat": 4,
 "nbformat_minor": 2
}
