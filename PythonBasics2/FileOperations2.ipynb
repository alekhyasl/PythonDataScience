{
 "cells": [
  {
   "cell_type": "code",
   "execution_count": null,
   "metadata": {},
   "outputs": [
    {
     "name": "stdout",
     "output_type": "stream",
     "text": [
      "Hello How are you?\n",
      "Welcome to python course\n",
      "Have a great journey \n",
      "Happy learning\n"
     ]
    }
   ],
   "source": [
    "# reading a whole file\n",
    "# r indicates read mode\n",
    "# we will not be able to write if we are in read mode\n",
    "with open(\"example.txt\",'r') as file:\n",
    "    content = file.read()\n",
    "    print(content)\n",
    "# in read mode if file is not present it will give error, so make sure file exist   \n"
   ]
  },
  {
   "cell_type": "code",
   "execution_count": null,
   "metadata": {},
   "outputs": [
    {
     "name": "stdout",
     "output_type": "stream",
     "text": [
      "Hello How are you?\n",
      "\n",
      "Welcome to python course\n",
      "\n",
      "Have a great journey \n",
      "\n",
      "Happy learning\n"
     ]
    }
   ],
   "source": [
    "# Read a file line by line\n",
    "with open(\"example.txt\",'r') as file: # here it is taking new line character\n",
    "    for line in file:\n",
    "        print(line) "
   ]
  },
  {
   "cell_type": "code",
   "execution_count": null,
   "metadata": {},
   "outputs": [
    {
     "name": "stdout",
     "output_type": "stream",
     "text": [
      "Hello How are you?\n",
      "Welcome to python course\n",
      "Have a great journey\n",
      "Happy learning\n"
     ]
    }
   ],
   "source": [
    "with open(\"example.txt\",'r') as file:\n",
    "    for line in file:\n",
    "        print(line.strip()) # strip removes new line character"
   ]
  },
  {
   "cell_type": "code",
   "execution_count": null,
   "metadata": {},
   "outputs": [],
   "source": [
    "# writing to file\n",
    "with open(\"example.txt\",'w') as file: # here the content will be overridden\n",
    "    file.write(\"Hello world!\")\n",
    "    file.write(\"this is new line\")"
   ]
  },
  {
   "cell_type": "code",
   "execution_count": 8,
   "metadata": {},
   "outputs": [],
   "source": [
    "# writing to file without overwritten\n",
    "with open(\"example.txt\",'a') as file:\n",
    "    file.write(\"\\nThis getting appending\")"
   ]
  },
  {
   "cell_type": "code",
   "execution_count": 10,
   "metadata": {},
   "outputs": [],
   "source": [
    "# writing a list of lines to file\n",
    "lines = ['first lines\\n','second line\\n','third line\\n']\n",
    "with open(\"example.txt\",'a') as file:\n",
    "    file.writelines(lines)\n"
   ]
  },
  {
   "cell_type": "code",
   "execution_count": 12,
   "metadata": {},
   "outputs": [],
   "source": [
    "# binary files are .bin files\n",
    "# wb -> write byte mode\n",
    "data = b'\\x00\\x01\\x02\\x03\\x04'\n",
    "with open(\"example.bin\",'wb') as file:\n",
    "    file.write(data)"
   ]
  },
  {
   "cell_type": "code",
   "execution_count": 13,
   "metadata": {},
   "outputs": [
    {
     "name": "stdout",
     "output_type": "stream",
     "text": [
      "b'\\x00\\x01\\x02\\x03\\x04'\n"
     ]
    }
   ],
   "source": [
    "with open(\"example.bin\",'rb') as file: # rb is read bytes\n",
    "    content = file.read()\n",
    "    print(content)"
   ]
  },
  {
   "cell_type": "code",
   "execution_count": null,
   "metadata": {},
   "outputs": [],
   "source": [
    "# read the content from source text file and write to output text file\n",
    "with open(\"source.txt\",'r') as file:\n",
    "    content = file.read()\n",
    "\n",
    "with open(\"output.txt\",'w') as file:\n",
    "    file.write(content)"
   ]
  },
  {
   "cell_type": "code",
   "execution_count": 21,
   "metadata": {},
   "outputs": [
    {
     "name": "stdout",
     "output_type": "stream",
     "text": [
      "no of characters :  59\n",
      "no of lines :  3\n",
      "no of words :  10\n"
     ]
    }
   ],
   "source": [
    "# read the text file and count the number of lines , words, characters\n",
    "charcount,linecount,word_count = 0,0,0\n",
    "with open(\"source.txt\",'r') as file:\n",
    "    \n",
    "    for line in file:\n",
    "        charcount = charcount + len(line)\n",
    "        linecount = linecount + 1\n",
    "        word_count = word_count + len(line.split(' '))\n",
    "\n",
    "print(\"no of characters : \",charcount)\n",
    "print(\"no of lines : \",linecount)\n",
    "print(\"no of words : \",word_count)"
   ]
  },
  {
   "cell_type": "code",
   "execution_count": 27,
   "metadata": {},
   "outputs": [
    {
     "name": "stdout",
     "output_type": "stream",
     "text": [
      "no of lines:  3  no of words : 10  no of characters :  59\n"
     ]
    }
   ],
   "source": [
    "# second method\n",
    "def count_text_file(file_path):\n",
    "    with open(file_path,'r') as file:\n",
    "        lines = file.readlines()\n",
    "        line_count = len(lines)\n",
    "        word_count = sum((len(line.split(' '))) for line in lines)\n",
    "        char_count = sum((len(line)) for line in lines)\n",
    "    return line_count,word_count,char_count\n",
    "file_path = \"source.txt\"\n",
    "lines , words ,char =  count_text_file(file_path)\n",
    "print(\"no of lines: \",lines,\" no of words :\",words,\" no of characters : \",char)\n",
    "\n"
   ]
  },
  {
   "cell_type": "code",
   "execution_count": null,
   "metadata": {},
   "outputs": [
    {
     "name": "stdout",
     "output_type": "stream",
     "text": [
      "\n",
      "hey this is getting overwitten\n",
      "this is new line\n",
      "\n"
     ]
    }
   ],
   "source": [
    "# w+ mode is used to open file for both reading and writing\n",
    "# if file does not exist it will be created\n",
    "# if file exist its content is truncated\n",
    "\n",
    "with open(\"example.txt\",'+w') as file:\n",
    "    file.write(\"hey this is getting overwitten\\n\")\n",
    "    file.write(\"this is new line\\n\")\n",
    "    content = file.read()\n",
    "    print(content) # nothing gets printed as cursor is at end of file\n",
    "    file.seek(0) # here cursor moves to beginning of file\n",
    "    content = file.read()\n",
    "    print(content)\n",
    "\n",
    "# for moving file cursor to beginning use seek function"
   ]
  },
  {
   "cell_type": "code",
   "execution_count": 1,
   "metadata": {},
   "outputs": [
    {
     "name": "stdout",
     "output_type": "stream",
     "text": [
      "c:\\Users\\alekh\\Documents\\UdemyLearnings\\PythonDSA\\PythonBasics2\n"
     ]
    }
   ],
   "source": [
    "import os\n",
    "print(os.getcwd())"
   ]
  },
  {
   "cell_type": "code",
   "execution_count": 2,
   "metadata": {},
   "outputs": [
    {
     "name": "stdout",
     "output_type": "stream",
     "text": [
      "directory package1 created\n"
     ]
    }
   ],
   "source": [
    "# create new directory\n",
    "new_directory = \"package1\"\n",
    "os.mkdir(new_directory)\n",
    "print(f\"directory {new_directory} created\")\n"
   ]
  },
  {
   "cell_type": "code",
   "execution_count": null,
   "metadata": {},
   "outputs": [
    {
     "name": "stdout",
     "output_type": "stream",
     "text": [
      "['destination.txt', 'example.bin', 'example.csv', 'example.txt', 'FileOperations2.ipynb', 'ModulesPackages1.ipynb', 'output.txt', 'package', 'package1', 'source.txt', 'test.py']\n"
     ]
    }
   ],
   "source": [
    "# list all files and directories\n",
    "items = os.listdir('.') # . indicates files from current directory\n",
    "print(items)\n"
   ]
  },
  {
   "cell_type": "code",
   "execution_count": null,
   "metadata": {},
   "outputs": [
    {
     "name": "stdout",
     "output_type": "stream",
     "text": [
      "PythonBasics2\\file.txt\n"
     ]
    }
   ],
   "source": [
    "# joining the paths\n",
    "dir_name = 'PythonBasics2'\n",
    "file_name = 'file.txt'\n",
    "full_path = os.path.join(dir_name,file_name) # gives relative path\n",
    "print(full_path)"
   ]
  },
  {
   "cell_type": "code",
   "execution_count": null,
   "metadata": {},
   "outputs": [
    {
     "name": "stdout",
     "output_type": "stream",
     "text": [
      "c:\\Users\\alekh\\Documents\\UdemyLearnings\\PythonDSA\\PythonBasics2\\PythonBasics2\\file.txt\n"
     ]
    }
   ],
   "source": [
    "full_path = os.path.join(os.getcwd(),dir_name,file_name) # gives entire/Absolute path\n",
    "print(full_path) "
   ]
  },
  {
   "cell_type": "code",
   "execution_count": null,
   "metadata": {},
   "outputs": [
    {
     "name": "stdout",
     "output_type": "stream",
     "text": [
      "The path example.txt exists\n"
     ]
    }
   ],
   "source": [
    "path = 'example.txt'\n",
    "if os.path.exists(path): # helps to check if file is present or not\n",
    "    print(f\"The path {path} exists\")\n",
    "else:\n",
    "    print(f\"The path {path} does not exist\")"
   ]
  },
  {
   "cell_type": "code",
   "execution_count": 7,
   "metadata": {},
   "outputs": [
    {
     "name": "stdout",
     "output_type": "stream",
     "text": [
      "The path example1.txt does not exist\n"
     ]
    }
   ],
   "source": [
    "path = \"example1.txt\"\n",
    "if os.path.exists(path):\n",
    "    print(f\"The path {path} exists\")\n",
    "else:\n",
    "    print(f\"The path {path} does not exist\")"
   ]
  },
  {
   "cell_type": "code",
   "execution_count": 8,
   "metadata": {},
   "outputs": [
    {
     "name": "stdout",
     "output_type": "stream",
     "text": [
      "The path example.txt is a file\n"
     ]
    }
   ],
   "source": [
    "path = \"example.txt\"\n",
    "if os.path.isfile(path):\n",
    "    print(f\"The path {path} is a file\")\n",
    "elif os.path.isdir(path):\n",
    "    print(f\"this path {path} is a directory\")\n",
    "else:\n",
    "    print(f\"this path {path} is neither directory nor file\")\n"
   ]
  },
  {
   "cell_type": "code",
   "execution_count": 9,
   "metadata": {},
   "outputs": [
    {
     "name": "stdout",
     "output_type": "stream",
     "text": [
      "c:\\Users\\alekh\\Documents\\UdemyLearnings\\PythonDSA\\PythonBasics2\\example.txt\n"
     ]
    }
   ],
   "source": [
    "# getting absolute path\n",
    "relative_path= \"example.txt\"\n",
    "absolute_path = os.path.abspath(relative_path)\n",
    "print(absolute_path)"
   ]
  },
  {
   "cell_type": "code",
   "execution_count": null,
   "metadata": {},
   "outputs": [
    {
     "name": "stdout",
     "output_type": "stream",
     "text": [
      "hey this is getting overwitten\n",
      "this is new line\n",
      "\n"
     ]
    }
   ],
   "source": [
    "# Assignment\n",
    "# 1.Write a function that reads the contents of a file named `example.txt` and prints each line.\n",
    "\n",
    "def read_file(file_name):\n",
    "    with open(file_name,'r') as file:\n",
    "        content = file.read()\n",
    "    return content\n",
    "\n",
    "print(read_file(\"example.txt\"))\n",
    "    \n",
    "\n",
    "\n"
   ]
  },
  {
   "cell_type": "code",
   "execution_count": 13,
   "metadata": {},
   "outputs": [],
   "source": [
    "# Write a function that writes a list of strings to a file named `output.txt`, with each string on a new line.\n",
    "def write_strlist_to_file(lst,file_name):\n",
    "    with open (file_name,'w') as file:\n",
    "        file.writelines(lst)\n",
    "\n",
    "list1 = [\"hello\",\"\\npython course\" \"\\nwelcome you to class \"]\n",
    "write_strlist_to_file(list1,\"output.txt\")"
   ]
  },
  {
   "cell_type": "code",
   "execution_count": 14,
   "metadata": {},
   "outputs": [],
   "source": [
    "# Write a function that copies the contents of a file named `source.txt` to a new file named `destination1.txt`.\n",
    "def copy_file_contents(sourcefile,destinationfile):\n",
    "    with open(sourcefile,'r') as file:\n",
    "        lines = file.read()\n",
    "    \n",
    "    with open(destinationfile,'w') as file:\n",
    "        for line in lines:\n",
    "            file.write(line)\n",
    "\n",
    "copy_file_contents(\"source.txt\",\"destination1.txt\")"
   ]
  },
  {
   "cell_type": "code",
   "execution_count": 17,
   "metadata": {},
   "outputs": [],
   "source": [
    "# Write a function that appends a given string to the end of a file \n",
    "def append_text(text,filename):\n",
    "    with open(filename,'a') as file:\n",
    "        file.write(text)\n",
    "\n",
    "append_text(\"this is appended text\\n\",\"source.txt\")\n"
   ]
  },
  {
   "cell_type": "code",
   "execution_count": 28,
   "metadata": {},
   "outputs": [
    {
     "data": {
      "text/plain": [
       "17"
      ]
     },
     "execution_count": 28,
     "metadata": {},
     "output_type": "execute_result"
    }
   ],
   "source": [
    "# Write a function that reads the contents of a file named `document.txt` and \n",
    "# returns the number of words in the file.\n",
    "\n",
    "def count_words(filename):\n",
    "    word_count = 0\n",
    "    with open(filename,'r') as file:\n",
    "        for line in file:\n",
    "                if line.strip() != '':\n",
    "                     word_count += len(line.split(' '))\n",
    "                                \n",
    "    return word_count\n",
    "\n",
    "count_words(\"source.txt\")\n"
   ]
  },
  {
   "cell_type": "code",
   "execution_count": 35,
   "metadata": {},
   "outputs": [],
   "source": [
    "# Write a function that finds and replaces all occurrences of a given word in a \n",
    "# file named `data.txt` with another word.\n",
    "\n",
    "def replace_words(srcfile,find,replace):\n",
    "    with open(srcfile,'r') as file:\n",
    "        context = file.read()\n",
    "    with open(srcfile,'w') as file:\n",
    "        file.write(context.replace(find,replace))\n",
    "        \n",
    "replace_words(\"example.txt\",\"this\",\"that\")\n",
    "        \n",
    "\n",
    " "
   ]
  },
  {
   "cell_type": "code",
   "execution_count": null,
   "metadata": {},
   "outputs": [],
   "source": [
    "# Write a function that reads the contents of a file named `reverse.txt` and \n",
    "# prints each line in reverse order.\n"
   ]
  }
 ],
 "metadata": {
  "kernelspec": {
   "display_name": "Python 3",
   "language": "python",
   "name": "python3"
  },
  "language_info": {
   "codemirror_mode": {
    "name": "ipython",
    "version": 3
   },
   "file_extension": ".py",
   "mimetype": "text/x-python",
   "name": "python",
   "nbconvert_exporter": "python",
   "pygments_lexer": "ipython3",
   "version": "3.12.0"
  }
 },
 "nbformat": 4,
 "nbformat_minor": 2
}
