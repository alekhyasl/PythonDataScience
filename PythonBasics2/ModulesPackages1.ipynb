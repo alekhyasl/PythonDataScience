{
 "cells": [
  {
   "cell_type": "code",
   "execution_count": 1,
   "metadata": {},
   "outputs": [
    {
     "data": {
      "text/plain": [
       "7.0"
      ]
     },
     "execution_count": 1,
     "metadata": {},
     "output_type": "execute_result"
    }
   ],
   "source": [
    "# Modules and packages\n",
    "# They help in reusing the code by making the functions ready to use\n",
    "import math\n",
    "math.sqrt(49)"
   ]
  },
  {
   "cell_type": "code",
   "execution_count": 4,
   "metadata": {},
   "outputs": [
    {
     "name": "stdout",
     "output_type": "stream",
     "text": [
      "3.141592653589793\n",
      "5.0\n"
     ]
    }
   ],
   "source": [
    "from math import sqrt,pi\n",
    "print(pi)\n",
    "print(sqrt(25))"
   ]
  },
  {
   "cell_type": "code",
   "execution_count": null,
   "metadata": {},
   "outputs": [],
   "source": [
    "import numpy as np\n",
    "# here np is alias\n",
    "# here numpy module is not installed by default so initially you get error\n",
    "# so we have to follow below steps to instal it first\n",
    "# Go to requirements.txt file include numpy here\n",
    "# Now go to terminal and select command prompt instead of power shell by clicking on down arrow beside the + sign\n",
    "# execute the command pip install -r requirements.txt in command prompt\n",
    "\n",
    "\n"
   ]
  },
  {
   "cell_type": "code",
   "execution_count": 7,
   "metadata": {},
   "outputs": [
    {
     "data": {
      "text/plain": [
       "array([1, 2, 3, 4])"
      ]
     },
     "execution_count": 7,
     "metadata": {},
     "output_type": "execute_result"
    }
   ],
   "source": [
    "np.array([1,2,3,4])"
   ]
  },
  {
   "cell_type": "code",
   "execution_count": 9,
   "metadata": {},
   "outputs": [
    {
     "name": "stdout",
     "output_type": "stream",
     "text": [
      "9.0\n",
      "3.141592653589793\n"
     ]
    }
   ],
   "source": [
    "from math import * # this imports all functions from math module\n",
    "print(sqrt(81))\n",
    "print(pi)"
   ]
  },
  {
   "cell_type": "code",
   "execution_count": null,
   "metadata": {},
   "outputs": [
    {
     "data": {
      "text/plain": [
       "9"
      ]
     },
     "execution_count": 10,
     "metadata": {},
     "output_type": "execute_result"
    }
   ],
   "source": [
    "# defining custom module\n",
    "# create a folder named package under PythonBasics2\n",
    "# create the special file __init__.py which is used in python to define packages and initialise their namespace\n",
    "# you need hav ethis __intit__.py file in order to create modules\n",
    "# Now in the package folder create maths.py file and define any function (say addition with 2 parameters)\n",
    "# now we can reuse the defined function as below\n",
    "from package.maths import addition\n",
    "addition(4,5)"
   ]
  },
  {
   "cell_type": "code",
   "execution_count": 11,
   "metadata": {},
   "outputs": [
    {
     "data": {
      "text/plain": [
       "11"
      ]
     },
     "execution_count": 11,
     "metadata": {},
     "output_type": "execute_result"
    }
   ],
   "source": [
    "from package import maths\n",
    "maths.addition(5,6)"
   ]
  },
  {
   "cell_type": "code",
   "execution_count": 12,
   "metadata": {},
   "outputs": [],
   "source": [
    "# Now create test.py file outside the package folder and use the function from this file\n",
    "# excute the command python test.py in command prompt to exceute the py file\n",
    "\n"
   ]
  },
  {
   "cell_type": "code",
   "execution_count": 13,
   "metadata": {},
   "outputs": [],
   "source": [
    "# Now create a subpackage under package\n",
    "# then create special file __int__.py under this this subpackage folder\n",
    "# Now create mult.py file and create the function multiply in this \n",
    "# Now try executing the multiply function from test.py file"
   ]
  },
  {
   "cell_type": "code",
   "execution_count": 14,
   "metadata": {},
   "outputs": [
    {
     "name": "stdout",
     "output_type": "stream",
     "text": [
      "6\n"
     ]
    }
   ],
   "source": [
    "from package.subpackage import mult\n",
    "print(mult.multiply(2,3))"
   ]
  },
  {
   "cell_type": "code",
   "execution_count": 16,
   "metadata": {},
   "outputs": [
    {
     "name": "stdout",
     "output_type": "stream",
     "text": [
      "array('i', [1, 2, 3, 4])\n"
     ]
    }
   ],
   "source": [
    "import array\n",
    "arr = array.array('i',[1,2,3,4])\n",
    "print(arr)"
   ]
  },
  {
   "cell_type": "code",
   "execution_count": null,
   "metadata": {},
   "outputs": [
    {
     "name": "stdout",
     "output_type": "stream",
     "text": [
      "1\n",
      "banana\n"
     ]
    }
   ],
   "source": [
    "import random\n",
    "print(random.randint(1,10)) # gives the output as random integer that is in range 1 to 10\n",
    "print(random.choice(['apple','banana','orange'])) # select the random item from the list"
   ]
  },
  {
   "cell_type": "code",
   "execution_count": null,
   "metadata": {},
   "outputs": [
    {
     "name": "stdout",
     "output_type": "stream",
     "text": [
      "c:\\Users\\alekh\\Documents\\UdemyLearnings\\PythonDSA\\PythonBasics2\n"
     ]
    }
   ],
   "source": [
    "# file and directory access\n",
    "import os\n",
    "print(os.getcwd()) # prints current working directory\n",
    "os.mkdir('test_dir')\n"
   ]
  },
  {
   "cell_type": "code",
   "execution_count": null,
   "metadata": {},
   "outputs": [
    {
     "data": {
      "text/plain": [
       "'destination.txt'"
      ]
     },
     "execution_count": 21,
     "metadata": {},
     "output_type": "execute_result"
    }
   ],
   "source": [
    "# high level operations on files and collection of files\n",
    "import shutil\n",
    "shutil.copyfile('source.txt','destination.txt') # here destination file got created and content is copied to it\n"
   ]
  },
  {
   "cell_type": "code",
   "execution_count": null,
   "metadata": {},
   "outputs": [
    {
     "name": "stdout",
     "output_type": "stream",
     "text": [
      "{\"name\": \"alekhya\", \"age\": 25}\n",
      "<class 'str'>\n",
      "{'name': 'alekhya', 'age': 25}\n",
      "<class 'dict'>\n"
     ]
    }
   ],
   "source": [
    "# Data serialization -> is used when you want to convert the objects(like arrays,dictonaries or any other \n",
    "# complex data structure) to formats like json xml this is called serialization\n",
    "\n",
    "import json\n",
    "\n",
    "data = {\n",
    "    'name' : 'alekhya' , 'age' : 25\n",
    "}\n",
    "\n",
    "json_str = json.dumps(data) # we get json in form of string\n",
    "print(json_str)\n",
    "print(type(json_str))\n",
    "parsed_data = json.loads(json_str) # converts string back to dictionary\n",
    "print(parsed_data)\n",
    "print(type(parsed_data))\n"
   ]
  },
  {
   "cell_type": "code",
   "execution_count": 27,
   "metadata": {},
   "outputs": [
    {
     "name": "stdout",
     "output_type": "stream",
     "text": [
      "['name', 'age']\n",
      "['alekhya', '30']\n"
     ]
    }
   ],
   "source": [
    "# csv\n",
    "\n",
    "import csv\n",
    "with open('example.csv',mode = 'w',newline= '') as file:\n",
    "    writer = csv.writer(file)\n",
    "    writer.writerow(['name','age'])\n",
    "    writer.writerow(['alekhya',30])\n",
    "\n",
    "with open('example.csv',mode = 'r') as file:\n",
    "    reader = csv.reader(file)\n",
    "    for row in reader:\n",
    "        print(row)\n",
    "\n",
    "\n"
   ]
  },
  {
   "cell_type": "code",
   "execution_count": 34,
   "metadata": {},
   "outputs": [
    {
     "name": "stdout",
     "output_type": "stream",
     "text": [
      "2025-03-25 14:45:03.466576\n",
      "2025\n",
      "3\n",
      "25\n",
      "<built-in method strftime of datetime.datetime object at 0x000002ADDACC2310>\n"
     ]
    }
   ],
   "source": [
    "# datetime\n",
    "\n",
    "from datetime import datetime,timedelta\n",
    "\n",
    "now = datetime.now()\n",
    "print(now)\n",
    "print(now.year)\n",
    "print(now.month)\n",
    "print(now.day)\n",
    "print(now.strftime)"
   ]
  },
  {
   "cell_type": "code",
   "execution_count": 29,
   "metadata": {},
   "outputs": [
    {
     "name": "stdout",
     "output_type": "stream",
     "text": [
      "2025-03-22 18:14:12.527098\n"
     ]
    }
   ],
   "source": [
    "yesterday = now - timedelta(days= 1)\n",
    "print(yesterday)"
   ]
  },
  {
   "cell_type": "code",
   "execution_count": 30,
   "metadata": {},
   "outputs": [
    {
     "name": "stdout",
     "output_type": "stream",
     "text": [
      "1742772179.4689724\n",
      "1742772182.4705226\n"
     ]
    }
   ],
   "source": [
    "# time\n",
    "import time\n",
    "\n",
    "print(time.time())\n",
    "time.sleep(3)\n",
    "print(time.time())"
   ]
  },
  {
   "cell_type": "code",
   "execution_count": 31,
   "metadata": {},
   "outputs": [
    {
     "name": "stdout",
     "output_type": "stream",
     "text": [
      "113\n"
     ]
    }
   ],
   "source": [
    "# regular expression -> a powerful tool for matching text, based on a pre-defined pattern\n",
    "\n",
    "import re\n",
    "\n",
    "pattern = r'\\d+'\n",
    "text = 'There are 113 apples in 12 basekets'\n",
    "match = re.search(pattern,text)\n",
    "print(match.group())"
   ]
  },
  {
   "cell_type": "code",
   "execution_count": null,
   "metadata": {},
   "outputs": [],
   "source": []
  }
 ],
 "metadata": {
  "kernelspec": {
   "display_name": "Python 3",
   "language": "python",
   "name": "python3"
  },
  "language_info": {
   "codemirror_mode": {
    "name": "ipython",
    "version": 3
   },
   "file_extension": ".py",
   "mimetype": "text/x-python",
   "name": "python",
   "nbconvert_exporter": "python",
   "pygments_lexer": "ipython3",
   "version": "3.12.0"
  }
 },
 "nbformat": 4,
 "nbformat_minor": 2
}
