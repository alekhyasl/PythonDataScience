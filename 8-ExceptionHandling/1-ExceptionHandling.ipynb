{
 "cells": [
  {
   "cell_type": "code",
   "execution_count": null,
   "metadata": {},
   "outputs": [
    {
     "ename": "NameError",
     "evalue": "name 'b' is not defined",
     "output_type": "error",
     "traceback": [
      "\u001b[31m---------------------------------------------------------------------------\u001b[39m",
      "\u001b[31mNameError\u001b[39m                                 Traceback (most recent call last)",
      "\u001b[36mCell\u001b[39m\u001b[36m \u001b[39m\u001b[32mIn[1]\u001b[39m\u001b[32m, line 8\u001b[39m\n\u001b[32m      1\u001b[39m \u001b[38;5;66;03m# exception handling -> helps to handle errors gracefully and take correct actions to stop\u001b[39;00m\n\u001b[32m      2\u001b[39m \u001b[38;5;66;03m# interrupting program execution\u001b[39;00m\n\u001b[32m      3\u001b[39m \u001b[38;5;66;03m# Different types of error\u001b[39;00m\n\u001b[32m   (...)\u001b[39m\u001b[32m      6\u001b[39m \u001b[38;5;66;03m# ValueError -> invalid value\u001b[39;00m\n\u001b[32m      7\u001b[39m \u001b[38;5;66;03m# TypeError -> invalid type\u001b[39;00m\n\u001b[32m----> \u001b[39m\u001b[32m8\u001b[39m a = \u001b[43mb\u001b[49m\n",
      "\u001b[31mNameError\u001b[39m: name 'b' is not defined"
     ]
    }
   ],
   "source": [
    "# exception handling -> helps to handle errors gracefully providing good message\n",
    "#  and take correct actions to stop\n",
    "# interrupting program execution\n",
    "# Different types of error\n",
    "# ZeroDivisionError\n",
    "# FileNotFoundError\n",
    "# ValueError -> invalid value\n",
    "# TypeError -> invalid type\n",
    "a = b\n",
    "\n"
   ]
  },
  {
   "cell_type": "code",
   "execution_count": null,
   "metadata": {},
   "outputs": [
    {
     "name": "stdout",
     "output_type": "stream",
     "text": [
      "variable is not defined\n"
     ]
    }
   ],
   "source": [
    "# try except block\n",
    "try:\n",
    "    # block of code where exception may raise\n",
    "    a = b\n",
    "except NameError :\n",
    "    print(\"variable is not defined\")"
   ]
  },
  {
   "cell_type": "code",
   "execution_count": 4,
   "metadata": {},
   "outputs": [
    {
     "ename": "ZeroDivisionError",
     "evalue": "division by zero",
     "output_type": "error",
     "traceback": [
      "\u001b[31m---------------------------------------------------------------------------\u001b[39m",
      "\u001b[31mZeroDivisionError\u001b[39m                         Traceback (most recent call last)",
      "\u001b[36mCell\u001b[39m\u001b[36m \u001b[39m\u001b[32mIn[4]\u001b[39m\u001b[32m, line 1\u001b[39m\n\u001b[32m----> \u001b[39m\u001b[32m1\u001b[39m result = \u001b[32;43m1\u001b[39;49m\u001b[43m/\u001b[49m\u001b[32;43m0\u001b[39;49m\n",
      "\u001b[31mZeroDivisionError\u001b[39m: division by zero"
     ]
    }
   ],
   "source": [
    "result = 1/0"
   ]
  },
  {
   "cell_type": "code",
   "execution_count": 9,
   "metadata": {},
   "outputs": [
    {
     "name": "stdout",
     "output_type": "stream",
     "text": [
      "division by zero\n",
      "please enter Dr greater than 0\n"
     ]
    }
   ],
   "source": [
    "try: \n",
    "    result = 1/0\n",
    "  \n",
    "except ZeroDivisionError as ex:\n",
    "    print(ex)\n",
    "    print(\"please enter Dr greater than 0\")"
   ]
  },
  {
   "cell_type": "code",
   "execution_count": null,
   "metadata": {},
   "outputs": [
    {
     "name": "stdout",
     "output_type": "stream",
     "text": [
      "name 'b' is not defined\n"
     ]
    }
   ],
   "source": [
    "try: # we can use any number of exception but parent class Exception should be at last\n",
    "    result = 1/2\n",
    "    a=b\n",
    "except ZeroDivisionError as ex:\n",
    "    print(ex)\n",
    "    print(\"please enter Dr greater than 0\")\n",
    "except Exception as ex:\n",
    "    print(ex)\n"
   ]
  },
  {
   "cell_type": "code",
   "execution_count": 12,
   "metadata": {},
   "outputs": [
    {
     "name": "stdout",
     "output_type": "stream",
     "text": [
      "enter Dr greater than 0\n"
     ]
    }
   ],
   "source": [
    "try:\n",
    "    num = int(input(\"enter number\")) \n",
    "    result = 10/num\n",
    "except ValueError:\n",
    "    print(\"This is not valid number\")\n",
    "except ZeroDivisionError:\n",
    "    print(\"enter Dr greater than 0\")\n",
    "except Exception as ex:\n",
    "    print(ex)"
   ]
  },
  {
   "cell_type": "code",
   "execution_count": null,
   "metadata": {},
   "outputs": [
    {
     "name": "stdout",
     "output_type": "stream",
     "text": [
      "the result is 0.14925373134328357\n"
     ]
    }
   ],
   "source": [
    "# try except else block\n",
    "try:\n",
    "    num = int(input(\"enter number\")) \n",
    "    result = 10/num\n",
    "except ValueError:\n",
    "    print(\"This is not valid number\")\n",
    "except ZeroDivisionError:\n",
    "    print(\"enter Dr greater than 0\")\n",
    "except Exception as ex:\n",
    "    print(ex)\n",
    "else:\n",
    "    print(f\"the result is {result}\") # this else block gets executed if none of exceptions are caught\n",
    "    "
   ]
  },
  {
   "cell_type": "code",
   "execution_count": 14,
   "metadata": {},
   "outputs": [
    {
     "name": "stdout",
     "output_type": "stream",
     "text": [
      "the result is 0.14925373134328357\n",
      "the program ends\n"
     ]
    }
   ],
   "source": [
    "# try except else finally\n",
    "try:\n",
    "    num = int(input(\"enter number\")) \n",
    "    result = 10/num\n",
    "except ValueError:\n",
    "    print(\"This is not valid number\")\n",
    "except ZeroDivisionError:\n",
    "    print(\"enter Dr greater than 0\")\n",
    "except Exception as ex:\n",
    "    print(ex)\n",
    "else:\n",
    "    print(f\"the result is {result}\")\n",
    "finally:\n",
    "    print(\"the program ends\") # finally executes irespect the error occurs or nor\n"
   ]
  },
  {
   "cell_type": "code",
   "execution_count": 20,
   "metadata": {},
   "outputs": [
    {
     "name": "stdout",
     "output_type": "stream",
     "text": [
      "name 'b' is not defined\n",
      "file closed\n"
     ]
    }
   ],
   "source": [
    "# suppose you are connected to DB and you got exception in middle\n",
    "# then you can use finally block to close the connection\n",
    "\n",
    "# exception handling with files\n",
    "try:\n",
    "    file = open(\"example.txt\",\"r\")\n",
    "    content = file.read()\n",
    "    a = b\n",
    "    print(content)\n",
    "except FileNotFoundError:\n",
    "    print(\"file does not exist\")\n",
    "except Exception as ex:\n",
    "    print(ex)\n",
    "\n",
    "finally:\n",
    "    if 'file' in locals() or not file.closed():\n",
    "        file.close()\n",
    "        print(\"file closed\")\n",
    "\n"
   ]
  },
  {
   "cell_type": "code",
   "execution_count": 26,
   "metadata": {},
   "outputs": [
    {
     "name": "stdout",
     "output_type": "stream",
     "text": [
      "<class 'ZeroDivisionError'>\n",
      "Execution completed\n",
      "\n"
     ]
    }
   ],
   "source": [
    "#Write a function that takes two integers as input and returns their division. \n",
    "# Use try, except, and finally blocks to handle division by zero and print an appropriate message.\n",
    "\n",
    "def division(a,b):\n",
    "    result = ''\n",
    "    try: \n",
    "        result = a/b    \n",
    "    except ZeroDivisionError:\n",
    "        print(ZeroDivisionError)\n",
    "    except Exception as ex:\n",
    "        print(ex)\n",
    "    finally:\n",
    "        print(\"Execution completed\")\n",
    "    return result\n",
    "\n",
    "print(division(1,0))"
   ]
  },
  {
   "cell_type": "code",
   "execution_count": 30,
   "metadata": {},
   "outputs": [
    {
     "name": "stdout",
     "output_type": "stream",
     "text": [
      "file closed\n",
      "hello that is python\n",
      "that course is for beginners\n"
     ]
    }
   ],
   "source": [
    "# Write a function that reads the contents of a file named `example.txt`. Use try, except,\n",
    "# and finally blocks to handle file not found errors and ensure the file is properly closed.\n",
    "\n",
    "def read_file(file_path):\n",
    "    try:\n",
    "        file = open(file_path,'r')\n",
    "        content = file.read()    \n",
    "    except FileNotFoundError:\n",
    "        print(FileNotFoundError)\n",
    "    except Exception as ex:\n",
    "        print(ex)\n",
    "    finally:\n",
    "        try:\n",
    "            file.close()\n",
    "            print(\"file closed\")\n",
    "        except Exception as ex:\n",
    "            print(ex)\n",
    "\n",
    "        \n",
    "    return content\n",
    "    \n",
    "print(read_file(\"example.txt\"))\n",
    "\n"
   ]
  },
  {
   "cell_type": "code",
   "execution_count": null,
   "metadata": {},
   "outputs": [],
   "source": [
    "# Write a function that takes a list of integers and returns their sum. Use try, except, and \n",
    "# finally blocks to handle TypeError if a non-integer value is encountered and print an appropriate message.\n",
    "\n",
    "def list_sum(lst):\n",
    "    try: \n",
    "        "
   ]
  }
 ],
 "metadata": {
  "kernelspec": {
   "display_name": "Python 3",
   "language": "python",
   "name": "python3"
  },
  "language_info": {
   "codemirror_mode": {
    "name": "ipython",
    "version": 3
   },
   "file_extension": ".py",
   "mimetype": "text/x-python",
   "name": "python",
   "nbconvert_exporter": "python",
   "pygments_lexer": "ipython3",
   "version": "3.12.0"
  }
 },
 "nbformat": 4,
 "nbformat_minor": 2
}
