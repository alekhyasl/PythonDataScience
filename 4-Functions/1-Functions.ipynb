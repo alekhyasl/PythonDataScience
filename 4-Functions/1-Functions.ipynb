{
 "cells": [
  {
   "cell_type": "code",
   "execution_count": 1,
   "metadata": {},
   "outputs": [],
   "source": [
    "# functions\n",
    "# Functions is block of code that performs specific task\n",
    "# helps in organising code,reusing code , improves redability\n",
    "\n",
    "# syntax\n",
    "\n",
    "def function_name(parameters):\n",
    "    \"\"\" docstring\"\"\"\n",
    "    #function body\n",
    "    return expression\n",
    "\n"
   ]
  },
  {
   "cell_type": "code",
   "execution_count": 2,
   "metadata": {},
   "outputs": [
    {
     "name": "stdout",
     "output_type": "stream",
     "text": [
      "this is even\n"
     ]
    }
   ],
   "source": [
    "num = 24\n",
    "if num % 2 == 0:\n",
    "    print(\"this is even\")\n",
    "else:\n",
    "    print(\"this is odd\")"
   ]
  },
  {
   "cell_type": "code",
   "execution_count": null,
   "metadata": {},
   "outputs": [
    {
     "name": "stdout",
     "output_type": "stream",
     "text": [
      "67 is an odd number\n"
     ]
    }
   ],
   "source": [
    "def odd_even(number):\n",
    "    \"\"\"\n",
    "    This function finds if the number is even or odd\n",
    "    \"\"\"\n",
    "    if number % 2 == 0:\n",
    "        print(f\"{number} is an even number\")\n",
    "    else:\n",
    "        print(f\"{number} is an odd number\")\n",
    "\n",
    "odd_even(67) # calling of function"
   ]
  },
  {
   "cell_type": "code",
   "execution_count": null,
   "metadata": {},
   "outputs": [
    {
     "name": "stdout",
     "output_type": "stream",
     "text": [
      "7\n"
     ]
    }
   ],
   "source": [
    "# function with multiple parameters\n",
    "\"\"\"\n",
    "function that adds 2 numbers\n",
    "\"\"\"\n",
    "def add(a,b):\n",
    "    return a+ b\n",
    "\n",
    "result = add(3,4)\n",
    "print(result)"
   ]
  },
  {
   "cell_type": "code",
   "execution_count": null,
   "metadata": {},
   "outputs": [
    {
     "name": "stdout",
     "output_type": "stream",
     "text": [
      "Hello alekhya , welcome to the paradise\n",
      "Hello Guest , welcome to the paradise\n"
     ]
    }
   ],
   "source": [
    "# default parameters i.e we can give parameters with defalu value if the parameter is \n",
    "# missing while calling function\n",
    "def greet(name = \"Guest\"):\n",
    "    \"\"\"\n",
    "    this function prints greeting message for customer\n",
    "    \"\"\" \n",
    "    print(f\"Hello {name} , welcome to the paradise\")\n",
    "\n",
    "greet(\"alekhya\")\n",
    "greet() # takes default value as guest in the name\n"
   ]
  },
  {
   "cell_type": "code",
   "execution_count": null,
   "metadata": {},
   "outputs": [
    {
     "name": "stdout",
     "output_type": "stream",
     "text": [
      "1\n",
      "2\n",
      "3\n",
      "4\n",
      "5\n",
      "6\n",
      "7\n",
      "ALekhya\n"
     ]
    }
   ],
   "source": [
    "# variable length arguments\n",
    "# positional and keyword arguments\n",
    "# if iam having multiple parameters written instead of that we use \n",
    "# positional argument as parameter followed by *\n",
    "\n",
    "def print_numbers(*numbers): # best practice is using *args \n",
    "    for num in numbers:\n",
    "        print(num)\n",
    "\n",
    "print_numbers(1,2,3,4,5,6,7,\"ALekhya\")\n"
   ]
  },
  {
   "cell_type": "code",
   "execution_count": 14,
   "metadata": {},
   "outputs": [
    {
     "name": "stdout",
     "output_type": "stream",
     "text": [
      "name : alekhya\n",
      "age : 30\n",
      "country : India\n"
     ]
    }
   ],
   "source": [
    "# keyword arguments -> given by **\n",
    "# best practice is using **kwargs\n",
    "# in keyword arguments all parameters are in form of key value pairs\n",
    "\n",
    "def print_details(**kwargs):\n",
    "    for key,value in kwargs.items():\n",
    "        print(f\"{key} : {value}\")\n",
    "\n",
    "print_details(name = \"alekhya\",age = 30,country = \"India\")\n"
   ]
  },
  {
   "cell_type": "code",
   "execution_count": 18,
   "metadata": {},
   "outputs": [],
   "source": [
    "def print_details(*args,**kwargs):\n",
    "    for val in args:\n",
    "        print(f\"positional argument : {val}\")\n",
    "    \n",
    "    for key,value in kwargs.items():\n",
    "        print(f\"keyword arguments key : {key} , value : {value}\")"
   ]
  },
  {
   "cell_type": "code",
   "execution_count": 19,
   "metadata": {},
   "outputs": [
    {
     "name": "stdout",
     "output_type": "stream",
     "text": [
      "positional argument : 1\n",
      "positional argument : 2\n",
      "positional argument : 3\n",
      "positional argument : 4\n",
      "positional argument : 5\n",
      "keyword arguments key : name , value : alekhya\n",
      "keyword arguments key : age , value : 30\n",
      "keyword arguments key : country , value : India\n"
     ]
    }
   ],
   "source": [
    "print_details(1,2,3,4,5,name = \"alekhya\",age = 30,country = \"India\")"
   ]
  },
  {
   "cell_type": "code",
   "execution_count": 20,
   "metadata": {},
   "outputs": [
    {
     "data": {
      "text/plain": [
       "6"
      ]
     },
     "execution_count": 20,
     "metadata": {},
     "output_type": "execute_result"
    }
   ],
   "source": [
    "# return statement\n",
    "def multiply(a,b):\n",
    "    return a*b\n",
    "\n",
    "multiply(2,3)"
   ]
  },
  {
   "cell_type": "code",
   "execution_count": 21,
   "metadata": {},
   "outputs": [
    {
     "data": {
      "text/plain": [
       "(2, 6)"
      ]
     },
     "execution_count": 21,
     "metadata": {},
     "output_type": "execute_result"
    }
   ],
   "source": [
    "# return multiple statements\n",
    "def multiply(a,b):\n",
    "    return a, a*b\n",
    "\n",
    "multiply(2,3)"
   ]
  },
  {
   "cell_type": "code",
   "execution_count": null,
   "metadata": {},
   "outputs": [],
   "source": []
  }
 ],
 "metadata": {
  "kernelspec": {
   "display_name": "Python 3",
   "language": "python",
   "name": "python3"
  },
  "language_info": {
   "codemirror_mode": {
    "name": "ipython",
    "version": 3
   },
   "file_extension": ".py",
   "mimetype": "text/x-python",
   "name": "python",
   "nbconvert_exporter": "python",
   "pygments_lexer": "ipython3",
   "version": "3.12.0"
  }
 },
 "nbformat": 4,
 "nbformat_minor": 2
}
