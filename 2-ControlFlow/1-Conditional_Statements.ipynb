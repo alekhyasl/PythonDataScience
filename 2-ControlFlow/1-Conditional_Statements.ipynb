{
 "cells": [
  {
   "cell_type": "code",
   "execution_count": 1,
   "metadata": {},
   "outputs": [
    {
     "name": "stdout",
     "output_type": "stream",
     "text": [
      "hey you are allowed to contest in elections\n"
     ]
    }
   ],
   "source": [
    "# conditional statements\n",
    "# if ,else, elif,Nested conditional, \n",
    "# if condition\n",
    "age = 31\n",
    "if age > 30:\n",
    "    print(\"hey you are allowed to contest in elections\")"
   ]
  },
  {
   "cell_type": "code",
   "execution_count": 3,
   "metadata": {},
   "outputs": [
    {
     "name": "stdout",
     "output_type": "stream",
     "text": [
      "not eligible for voting as you are minor\n"
     ]
    }
   ],
   "source": [
    "# else\n",
    "age = 16\n",
    "if age > 18:\n",
    "    print(\"you are eligible for voting\")\n",
    "else:\n",
    "    print(\"not eligible for voting as you are minor\")"
   ]
  },
  {
   "cell_type": "code",
   "execution_count": 4,
   "metadata": {},
   "outputs": [
    {
     "name": "stdout",
     "output_type": "stream",
     "text": [
      "hey you are an adult\n"
     ]
    }
   ],
   "source": [
    "# elif -> it allows to check multiple conditions\n",
    "age = 20\n",
    "if age < 13:\n",
    "    print(\"hey you are child\")\n",
    "elif age < 18:\n",
    "    print(\"hey you are a teenager\")\n",
    "else:\n",
    "    print(\"hey you are an adult\")\n"
   ]
  },
  {
   "cell_type": "code",
   "execution_count": 6,
   "metadata": {},
   "outputs": [
    {
     "name": "stdout",
     "output_type": "stream",
     "text": [
      "number is negative\n"
     ]
    }
   ],
   "source": [
    "# nested conditional statements\n",
    "# in this you can place one or more if, elif or else statements inside other if , elif or else statement\n",
    "# find if the number is odd or even or negative\n",
    "num = int(input(\"enter number\"))\n",
    "if num >= 0 :\n",
    "    print(\"number is positive\")\n",
    "    if num % 2 == 0:\n",
    "        print(\"number is even\")\n",
    "    else:\n",
    "        print(\"number is odd\")\n",
    "else:\n",
    "    print(\"number is negative\")\n",
    "  "
   ]
  },
  {
   "cell_type": "code",
   "execution_count": null,
   "metadata": {},
   "outputs": [
    {
     "name": "stdout",
     "output_type": "stream",
     "text": [
      "2024 is leap year\n"
     ]
    }
   ],
   "source": [
    "# determine if year is leap year or not using nested conditional statement\n",
    "year = int(input(\"enter year\"))\n",
    "if year % 4 == 0:\n",
    "    if year % 100 == 0:\n",
    "        if year % 400 == 0:\n",
    "            print(year,\"is a leap year\")\n",
    "        else:\n",
    "            print(year,\"is not a leap year\")\n",
    "else:\n",
    "    print(year,\"Is not a leap year\")\n"
   ]
  },
  {
   "cell_type": "code",
   "execution_count": null,
   "metadata": {},
   "outputs": [
    {
     "name": "stdout",
     "output_type": "stream",
     "text": [
      "addition 60\n"
     ]
    }
   ],
   "source": [
    "# create simple calculator program\n",
    "num1 = int(input(\"enter first number\"))\n",
    "num2 = int(input(\"enter second number\"))\n",
    "operation = input(\"enter operation to be performed (+,-,*,/)\")\n",
    "if operation == '+':\n",
    "    print(\"addition\",num1+num2)\n",
    "elif operation == '-':\n",
    "    print(\"subtraction\",num1-num2)\n",
    "elif operation == '*':\n",
    "    print(\"multiplication\",num1*num2)\n",
    "elif operation == '/':\n",
    "    if num2 != 0:\n",
    "        print(\"division\",num1/num2)\n",
    "    else:\n",
    "        print(\"zero division error\")\n",
    "else:\n",
    "    print(\"invalid input\")\n"
   ]
  },
  {
   "cell_type": "code",
   "execution_count": 14,
   "metadata": {},
   "outputs": [
    {
     "name": "stdout",
     "output_type": "stream",
     "text": [
      "ticket price is Free\n"
     ]
    }
   ],
   "source": [
    "# determine ticket price based on person age and if the person is student\n",
    "# ticket pricing is based on age and student status\n",
    "age = int(input(\"enter age\"))\n",
    "is_student = input(\"enter status of student Y/N\")\n",
    "if age < 5:\n",
    "    price = \"Free\"\n",
    "elif age <= 12:\n",
    "    price = \"$10\"\n",
    "elif age <= 17:\n",
    "    if is_student == 'Y':\n",
    "        price = \"$12\"\n",
    "    else:\n",
    "        price = \"$15\"\n",
    "elif age <= 64:\n",
    "    if is_student == 'Y':\n",
    "        price = \"$18\"\n",
    "    else:\n",
    "        price = \"$21\"\n",
    "else:\n",
    "    price = \"$25\"\n",
    "print(\"ticket price is\",price)\n"
   ]
  },
  {
   "cell_type": "code",
   "execution_count": null,
   "metadata": {},
   "outputs": [],
   "source": []
  },
  {
   "cell_type": "code",
   "execution_count": null,
   "metadata": {},
   "outputs": [],
   "source": []
  }
 ],
 "metadata": {
  "kernelspec": {
   "display_name": "Python 3",
   "language": "python",
   "name": "python3"
  },
  "language_info": {
   "codemirror_mode": {
    "name": "ipython",
    "version": 3
   },
   "file_extension": ".py",
   "mimetype": "text/x-python",
   "name": "python",
   "nbconvert_exporter": "python",
   "pygments_lexer": "ipython3",
   "version": "3.12.0"
  }
 },
 "nbformat": 4,
 "nbformat_minor": 2
}
